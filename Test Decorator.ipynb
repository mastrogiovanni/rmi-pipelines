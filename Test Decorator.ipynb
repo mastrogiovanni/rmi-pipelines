{
 "cells": [
  {
   "cell_type": "code",
   "execution_count": 1,
   "metadata": {},
   "outputs": [],
   "source": [
    "# importing libraries \n",
    "import time \n",
    "import math \n",
    "  \n",
    "# decorator to calculate duration \n",
    "# taken by any function. \n",
    "def calculate_time(func): \n",
    "      \n",
    "    # added arguments inside the inner1, \n",
    "    # if function takes any arguments, \n",
    "    # can be added like this. \n",
    "    def inner1(*args, **kwargs): \n",
    "  \n",
    "        # storing time before function execution \n",
    "        begin = time.time() \n",
    "          \n",
    "        func(*args, **kwargs) \n",
    "  \n",
    "        # storing time after function execution \n",
    "        end = time.time() \n",
    "        print(\"Total time taken in:\", func.__name__, end - begin) \n",
    "  \n",
    "    return inner1 "
   ]
  },
  {
   "cell_type": "code",
   "execution_count": 2,
   "metadata": {},
   "outputs": [],
   "source": [
    "@calculate_time\n",
    "# @hello_decorator\n",
    "def pippo(n):\n",
    "    return n"
   ]
  },
  {
   "cell_type": "code",
   "execution_count": 3,
   "metadata": {},
   "outputs": [
    {
     "name": "stdout",
     "output_type": "stream",
     "text": [
      "Total time taken in: pippo 1.1920928955078125e-06\n"
     ]
    }
   ],
   "source": [
    "pippo(12)"
   ]
  },
  {
   "cell_type": "code",
   "execution_count": null,
   "metadata": {},
   "outputs": [],
   "source": []
  }
 ],
 "metadata": {
  "kernelspec": {
   "display_name": "Python 3",
   "language": "python",
   "name": "python3"
  },
  "language_info": {
   "codemirror_mode": {
    "name": "ipython",
    "version": 3
   },
   "file_extension": ".py",
   "mimetype": "text/x-python",
   "name": "python",
   "nbconvert_exporter": "python",
   "pygments_lexer": "ipython3",
   "version": "3.6.8"
  }
 },
 "nbformat": 4,
 "nbformat_minor": 2
}
