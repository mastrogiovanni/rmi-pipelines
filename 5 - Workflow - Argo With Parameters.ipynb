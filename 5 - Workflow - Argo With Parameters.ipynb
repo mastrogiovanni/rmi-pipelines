{
 "cells": [
  {
   "cell_type": "markdown",
   "metadata": {},
   "source": [
    "# Workflow with artifacts\n",
    "\n",
    "This Notebook aim to show how data can be downloaded from Minio.\n",
    "This notebook can be launched only after the upload of some data in Notebook 1 (Minio example).\n",
    "The task will be responsible to list files in root directory and in the directory downloaded from Minio.\n",
    "\n",
    "Notice that Minio tar.gz file is decompressed automatically"
   ]
  },
  {
   "cell_type": "code",
   "execution_count": 27,
   "metadata": {},
   "outputs": [],
   "source": [
    "from argo.workflows.client import V1alpha1Api\n",
    "from argo.workflows.config import load_kube_config"
   ]
  },
  {
   "cell_type": "code",
   "execution_count": 28,
   "metadata": {},
   "outputs": [],
   "source": [
    "load_kube_config()  # loads local configuration from ~/.kube/config"
   ]
  },
  {
   "cell_type": "code",
   "execution_count": 29,
   "metadata": {},
   "outputs": [],
   "source": [
    "v1alpha1 = V1alpha1Api()"
   ]
  },
  {
   "cell_type": "raw",
   "metadata": {},
   "source": [
    "apiVersion: argoproj.io/v1alpha1\n",
    "kind: Workflow\n",
    "metadata:\n",
    "  generateName: hardwired-artifact-\n",
    "spec:\n",
    "  entrypoint: hardwired-artifact\n",
    "  templates:\n",
    "  - name: hardwired-artifact\n",
    "    inputs:\n",
    "      artifacts:\n",
    "      # Check out the master branch of the argo repo and place it at /src\n",
    "      # revision can be anything that git checkout accepts: branch, commit, tag, etc.\n",
    "      - name: argo-source\n",
    "        path: /src\n",
    "        git:\n",
    "          repo: https://github.com/argoproj/argo.git\n",
    "          revision: \"master\"\n",
    "      # Download kubectl 1.8.0 and place it at /bin/kubectl\n",
    "      - name: kubectl\n",
    "        path: /bin/kubectl\n",
    "        mode: 0755\n",
    "        http:\n",
    "          url: https://storage.googleapis.com/kubernetes-release/release/v1.8.0/bin/linux/amd64/kubectl\n",
    "      # Copy an s3 bucket and place it at /s3\n",
    "      - name: objects\n",
    "        path: /s3\n",
    "        s3:\n",
    "          endpoint: storage.googleapis.com\n",
    "          bucket: my-bucket-name\n",
    "          key: path/in/bucket\n",
    "          accessKeySecret:\n",
    "            name: my-s3-credentials\n",
    "            key: accessKey\n",
    "          secretKeySecret:\n",
    "            name: my-s3-credentials\n",
    "            key: secretKey\n",
    "    container:\n",
    "      image: debian\n",
    "      command: [sh, -c]\n",
    "      args: [\"ls -l /src /bin/kubectl /s3\"]"
   ]
  },
  {
   "cell_type": "markdown",
   "metadata": {},
   "source": [
    "You need to create credentials for minio storage:\n",
    "\n",
    "```\n",
    "kubectl create secret generic s3-secret --from-literal=accessKey=minioadmin --from-literal=secretKey=minioadmin\n",
    "```"
   ]
  },
  {
   "cell_type": "code",
   "execution_count": 30,
   "metadata": {},
   "outputs": [],
   "source": [
    "from argo.workflows.client.models import *"
   ]
  },
  {
   "cell_type": "code",
   "execution_count": 24,
   "metadata": {},
   "outputs": [],
   "source": [
    "from kubernetes.client.models import V1SecretKeySelector\n",
    "access_key_secret = V1SecretKeySelector(name=\"s3-secret\", key=\"accessKey\")\n",
    "secret_key_secret = V1SecretKeySelector(name=\"s3-secret\", key=\"secretKey\")\n",
    "\n",
    "s3_artifact = V1alpha1Artifact(name=\"s3-artifact\", \n",
    "                               path=\"subjects/0040013\",\n",
    "                               s3=V1alpha1S3Artifact(bucket=\"subjects-data\",\n",
    "                                       endpoint=\"minio.default:9000\",\n",
    "                                       insecure=True,\n",
    "                                       access_key_secret=access_key_secret,\n",
    "                                       secret_key_secret=secret_key_secret,\n",
    "                                                     key=\"controllo-0040013.tar.gz\"))"
   ]
  },
  {
   "cell_type": "code",
   "execution_count": 31,
   "metadata": {},
   "outputs": [],
   "source": [
    "# Create a Workflow with a single task\n",
    "\n",
    "inputs = V1alpha1Inputs(artifacts=[s3_artifact])\n",
    "\n",
    "spec = V1alpha1WorkflowSpec(\n",
    "    entrypoint=\"catfile\", \n",
    "    templates=[\n",
    "        V1alpha1Template(\n",
    "            name=\"catfile\", \n",
    "            container=V1Container(\n",
    "                name=\"dumper\", \n",
    "                image=\"ubuntu\", \n",
    "                command=[\"bash\", \"-c\", \"cd / ; ls -lh ; cd subjects/0040013 ; ls -lh\"], \n",
    "                args=[]), \n",
    "            inputs=inputs)\n",
    "    ])\n",
    "        \n",
    "workflow = V1alpha1Workflow(\n",
    "    api_version=\"argoproj.io/v1alpha1\",\n",
    "    kind=\"Workflow\",\n",
    "    metadata=V1ObjectMeta(generate_name=\"cat-file-\"), \n",
    "    spec=spec,\n",
    "    status=V1alpha1WorkflowStatus())"
   ]
  },
  {
   "cell_type": "code",
   "execution_count": 32,
   "metadata": {},
   "outputs": [],
   "source": [
    "result = v1alpha1.create_namespaced_workflow('default', workflow)"
   ]
  },
  {
   "cell_type": "code",
   "execution_count": 37,
   "metadata": {},
   "outputs": [
    {
     "name": "stdout",
     "output_type": "stream",
     "text": [
      "Log for cat-file-9qpcx: total 68K\n",
      "drwxr-xr-x   2 root root 4.0K Dec  2 12:43 bin\n",
      "drwxr-xr-x   2 root root 4.0K Apr 24  2018 boot\n",
      "drwxr-xr-x   5 root root  360 Dec 27 16:09 dev\n",
      "drwxr-xr-x   1 root root 4.0K Dec 27 16:09 etc\n",
      "drwxr-xr-x   2 root root 4.0K Apr 24  2018 home\n",
      "drwxr-xr-x   8 root root 4.0K May 23  2017 lib\n",
      "drwxr-xr-x   2 root root 4.0K Dec  2 12:43 lib64\n",
      "drwxr-xr-x   2 root root 4.0K Dec  2 12:43 media\n",
      "drwxr-xr-x   2 root root 4.0K Dec  2 12:43 mnt\n",
      "drwxr-xr-x   2 root root 4.0K Dec  2 12:43 opt\n",
      "dr-xr-xr-x 525 root root    0 Dec 27 16:09 proc\n",
      "drwx------   2 root root 4.0K Dec  2 12:43 root\n",
      "drwxr-xr-x   1 root root 4.0K Dec 27 16:09 run\n",
      "drwxr-xr-x   1 root root 4.0K Dec 19 04:21 sbin\n",
      "drwxr-xr-x   2 root root 4.0K Dec  2 12:43 srv\n",
      "drwxr-xr-x   3 root root 4.0K Dec 27 16:09 subjects\n",
      "dr-xr-xr-x  13 root root    0 Dec 26 22:48 sys\n",
      "drwxrwxrwt   2 root root 4.0K Dec  2 12:43 tmp\n",
      "drwxr-xr-x   1 root root 4.0K Dec  2 12:43 usr\n",
      "drwxr-xr-x   1 root root 4.0K Dec  2 12:43 var\n",
      "total 8.0K\n",
      "drwxr-xr-x 3 root root 4.0K Dec 27 16:09 controllo\n",
      "drwxr-xr-x 3 root root 4.0K Dec 27 16:09 recon_all\n",
      "\n"
     ]
    }
   ],
   "source": [
    "# The following fragment must be invoked more time, until the workflow is completed its execution\n",
    "\n",
    "from kubernetes.client.rest import ApiException\n",
    "from kubernetes import client, config\n",
    "\n",
    "config.load_kube_config()\n",
    "\n",
    "wfs = v1alpha1.list_namespaced_workflows(namespace=\"default\")\n",
    "for job in wfs.items:\n",
    "    if job.metadata.name == result.metadata.name:\n",
    "        for pod_name in job.status.nodes.keys():\n",
    "            if job.status.nodes[pod_name].type == 'Pod':\n",
    "                try:\n",
    "                    api_instance = client.CoreV1Api()\n",
    "                    # Pod created by Argo has init containers, main container and wait container...\n",
    "                    api_response = api_instance.read_namespaced_pod_log(name=pod_name, container=\"main\", namespace='default')\n",
    "                    print(f\"Log for {pod_name}: {api_response}\")\n",
    "                except ApiException as e:\n",
    "                    print(f'Found exception in reading the logs {pod_name}')"
   ]
  },
  {
   "cell_type": "code",
   "execution_count": null,
   "metadata": {},
   "outputs": [],
   "source": []
  }
 ],
 "metadata": {
  "kernelspec": {
   "display_name": "Python 3",
   "language": "python",
   "name": "python3"
  },
  "language_info": {
   "codemirror_mode": {
    "name": "ipython",
    "version": 3
   },
   "file_extension": ".py",
   "mimetype": "text/x-python",
   "name": "python",
   "nbconvert_exporter": "python",
   "pygments_lexer": "ipython3",
   "version": "3.6.8"
  }
 },
 "nbformat": 4,
 "nbformat_minor": 2
}
