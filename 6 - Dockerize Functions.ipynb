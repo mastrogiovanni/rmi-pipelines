{
 "cells": [
  {
   "cell_type": "markdown",
   "metadata": {},
   "source": [
    "# Serialize Python Functions as Docker images\n",
    "\n",
    "Here a python decorator is created that perform the following steps:\n",
    "- Serialize the function that is decorated\n",
    "- Create a docker image around the function"
   ]
  },
  {
   "cell_type": "code",
   "execution_count": 168,
   "metadata": {},
   "outputs": [],
   "source": [
    "import dill\n",
    "import os\n",
    "import tempfile\n",
    "import docker\n",
    "\n",
    "# *args, **kwargs\n",
    "\n",
    "\"\"\"\n",
    "docker_image is an annotation that make a python method runnable in a container\n",
    "@param image: name of the image to create\n",
    "\"\"\"\n",
    "def docker_image(image_name):\n",
    "    \n",
    "    FUNCTION_FILE = \"main.txt\"\n",
    "    MAIN_SCRIPT = \"my_script.py\"\n",
    "    \n",
    "    # Serialize function into root_directory\n",
    "    def serialize_func(func, root_directory):\n",
    "        ser = dill.dumps(func)\n",
    "        f = open(os.path.join(root_directory, FUNCTION_FILE), \"wb\")\n",
    "        f.write(ser)\n",
    "        f.close()\n",
    "        \n",
    "    def create_main_script(root_directory):\n",
    "        my_script = f\"\"\"\n",
    "import dill\n",
    "f = open('{FUNCTION_FILE}', \"rb\")\n",
    "main_function = dill.load(f)\n",
    "f.close()\n",
    "main_function()\n",
    "        \"\"\"\n",
    "        f = open(os.path.join(root_directory, MAIN_SCRIPT), \"w\")\n",
    "        f.write(my_script)\n",
    "        f.close()\n",
    "        \n",
    "    def create_docker_file(root_directory):\n",
    "        Dockerfile = f\"\"\"\n",
    "FROM python:3.7.6-alpine3.10\n",
    "RUN pip install dill\n",
    "ADD {MAIN_SCRIPT} /\n",
    "ADD {FUNCTION_FILE} /\n",
    "ENTRYPOINT [ \"python3\", \"./{MAIN_SCRIPT}\" ]\n",
    "        \"\"\"\n",
    "        f = open(os.path.join(root_directory, \"Dockerfile\"), \"w\")\n",
    "        f.write(Dockerfile)\n",
    "        f.close()\n",
    "        \n",
    "    def docker_build(client, image_name, root_directory):\n",
    "        client.images.build(\n",
    "            path=root_directory, \n",
    "            rm=True, \n",
    "            tag=image_name)\n",
    "        \n",
    "    def docker_push(client, image_name):\n",
    "        client.images.push(image_name, stream=True, decode=True)\n",
    "    \n",
    "    def inner(func): \n",
    "        root_directory = tempfile.mkdtemp()\n",
    "        serialize_func(func, root_directory)\n",
    "        create_main_script(root_directory)\n",
    "        create_docker_file(root_directory)\n",
    "        client = docker.DockerClient(base_url='unix://var/run/docker.sock')\n",
    "        docker_build(client, image_name, root_directory)\n",
    "        docker_push(client, image_name)\n",
    "        \n",
    "    return inner"
   ]
  },
  {
   "cell_type": "code",
   "execution_count": 182,
   "metadata": {},
   "outputs": [],
   "source": [
    "@docker_image(image_name = \"localhost:32000/library/volume\") \n",
    "def func():\n",
    "    import sys\n",
    "\n",
    "    print(\"This is the name of the script: \", sys.argv[0])\n",
    "    print(\"Number of arguments: \", len(sys.argv))\n",
    "    print(\"The arguments are: \" , str(sys.argv))  \n",
    "    print(\"Inside actual function\")\n",
    "    \n",
    "    import glob\n",
    "    print(glob.glob(\"/mounting/*\"))"
   ]
  },
  {
   "cell_type": "code",
   "execution_count": 184,
   "metadata": {},
   "outputs": [
    {
     "name": "stdout",
     "output_type": "stream",
     "text": [
      "This is the name of the script:  ./my_script.py\r\n",
      "Number of arguments:  2\r\n",
      "The arguments are:  ['./my_script.py', 'Hello!']\r\n",
      "Inside actual function\r\n",
      "['/mounting/run-notebook.sh', '/mounting/5 - Workflow - Argo With Parameters.ipynb', '/mounting/README.md', '/mounting/test.yaml', '/mounting/4 - Workflow - DAG.ipynb', '/mounting/3 - Workflow - Single Task.ipynb', '/mounting/Main.ipynb', '/mounting/Serialize Functions.ipynb', '/mounting/rmi-advanced.ipynb', '/mounting/FreeSurfer Executor.ipynb', '/mounting/1 - Minio Connection.ipynb', '/mounting/data', '/mounting/endpoint.yaml', '/mounting/LICENSE', '/mounting/ubuntu.txt', '/mounting/argo-test.yaml', '/mounting/test-pvc.yaml', '/mounting/rmi.ipynb', '/mounting/2 - Create Docker Image.ipynb', '/mounting/service.yaml', '/mounting/license.txt', '/mounting/minio-deployment.yaml']\r\n"
     ]
    }
   ],
   "source": [
    "!docker run -v $(pwd):/mounting localhost:32000/library/volume Hello!"
   ]
  },
  {
   "cell_type": "code",
   "execution_count": null,
   "metadata": {},
   "outputs": [],
   "source": []
  }
 ],
 "metadata": {
  "kernelspec": {
   "display_name": "Python 3",
   "language": "python",
   "name": "python3"
  },
  "language_info": {
   "codemirror_mode": {
    "name": "ipython",
    "version": 3
   },
   "file_extension": ".py",
   "mimetype": "text/x-python",
   "name": "python",
   "nbconvert_exporter": "python",
   "pygments_lexer": "ipython3",
   "version": "3.6.8"
  }
 },
 "nbformat": 4,
 "nbformat_minor": 2
}
