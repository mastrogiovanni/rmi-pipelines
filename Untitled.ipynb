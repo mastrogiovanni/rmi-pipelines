{
 "cells": [
  {
   "cell_type": "code",
   "execution_count": 1,
   "metadata": {},
   "outputs": [
    {
     "name": "stdout",
     "output_type": "stream",
     "text": [
      "Collecting argo-workflows\n",
      "  Using cached https://files.pythonhosted.org/packages/28/3a/cc0cf40062f5f52c67e0870b56a2c12888023bcc48f0796531535702a9e6/argo_workflows-2.1.4-py3-none-any.whl\n",
      "Collecting mock (from argo-workflows)\n",
      "  Using cached https://files.pythonhosted.org/packages/05/d2/f94e68be6b17f46d2c353564da56e6fb89ef09faeeff3313a046cb810ca9/mock-3.0.5-py2.py3-none-any.whl\n",
      "Collecting kubernetes~=10.0 (from argo-workflows)\n",
      "  Using cached https://files.pythonhosted.org/packages/6e/fc/2cab119f679648b348b8940de0dd744a1f0ee99c690aa2ef6072f050816c/kubernetes-10.0.1-py2.py3-none-any.whl\n",
      "Requirement already satisfied: six in /opt/conda/lib/python3.7/site-packages (from mock->argo-workflows) (1.12.0)\n",
      "Collecting websocket-client!=0.40.0,!=0.41.*,!=0.42.*,>=0.32.0 (from kubernetes~=10.0->argo-workflows)\n",
      "  Using cached https://files.pythonhosted.org/packages/29/19/44753eab1fdb50770ac69605527e8859468f3c0fd7dc5a76dd9c4dbd7906/websocket_client-0.56.0-py2.py3-none-any.whl\n",
      "Requirement already satisfied: urllib3>=1.24.2 in /opt/conda/lib/python3.7/site-packages (from kubernetes~=10.0->argo-workflows) (1.25.3)\n",
      "Collecting requests-oauthlib (from kubernetes~=10.0->argo-workflows)\n",
      "  Using cached https://files.pythonhosted.org/packages/a3/12/b92740d845ab62ea4edf04d2f4164d82532b5a0b03836d4d4e71c6f3d379/requests_oauthlib-1.3.0-py2.py3-none-any.whl\n",
      "Requirement already satisfied: python-dateutil>=2.5.3 in /opt/conda/lib/python3.7/site-packages (from kubernetes~=10.0->argo-workflows) (2.8.0)\n",
      "Requirement already satisfied: setuptools>=21.0.0 in /opt/conda/lib/python3.7/site-packages (from kubernetes~=10.0->argo-workflows) (41.0.1)\n",
      "Requirement already satisfied: certifi>=14.05.14 in /opt/conda/lib/python3.7/site-packages (from kubernetes~=10.0->argo-workflows) (2019.6.16)\n",
      "Collecting google-auth>=1.0.1 (from kubernetes~=10.0->argo-workflows)\n",
      "  Using cached https://files.pythonhosted.org/packages/36/f8/84b5771faec3eba9fe0c91c8c5896364a8ba08852c0dea5ad2025026dd95/google_auth-1.10.0-py2.py3-none-any.whl\n",
      "Requirement already satisfied: pyyaml>=3.12 in /opt/conda/lib/python3.7/site-packages (from kubernetes~=10.0->argo-workflows) (5.1.2)\n",
      "Requirement already satisfied: requests in /opt/conda/lib/python3.7/site-packages (from kubernetes~=10.0->argo-workflows) (2.22.0)\n",
      "Requirement already satisfied: oauthlib>=3.0.0 in /opt/conda/lib/python3.7/site-packages (from requests-oauthlib->kubernetes~=10.0->argo-workflows) (3.0.1)\n",
      "Collecting pyasn1-modules>=0.2.1 (from google-auth>=1.0.1->kubernetes~=10.0->argo-workflows)\n",
      "  Using cached https://files.pythonhosted.org/packages/52/50/bb4cefca37da63a0c52218ba2cb1b1c36110d84dcbae8aa48cd67c5e95c2/pyasn1_modules-0.2.7-py2.py3-none-any.whl\n",
      "Collecting rsa<4.1,>=3.1.4 (from google-auth>=1.0.1->kubernetes~=10.0->argo-workflows)\n",
      "  Using cached https://files.pythonhosted.org/packages/02/e5/38518af393f7c214357079ce67a317307936896e961e35450b70fad2a9cf/rsa-4.0-py2.py3-none-any.whl\n",
      "Collecting cachetools<5.0,>=2.0.0 (from google-auth>=1.0.1->kubernetes~=10.0->argo-workflows)\n",
      "  Using cached https://files.pythonhosted.org/packages/08/6a/abf83cb951617793fd49c98cb9456860f5df66ff89883c8660aa0672d425/cachetools-4.0.0-py3-none-any.whl\n",
      "Requirement already satisfied: idna<2.9,>=2.5 in /opt/conda/lib/python3.7/site-packages (from requests->kubernetes~=10.0->argo-workflows) (2.8)\n",
      "Requirement already satisfied: chardet<3.1.0,>=3.0.2 in /opt/conda/lib/python3.7/site-packages (from requests->kubernetes~=10.0->argo-workflows) (3.0.4)\n",
      "Collecting pyasn1<0.5.0,>=0.4.6 (from pyasn1-modules>=0.2.1->google-auth>=1.0.1->kubernetes~=10.0->argo-workflows)\n",
      "  Using cached https://files.pythonhosted.org/packages/62/1e/a94a8d635fa3ce4cfc7f506003548d0a2447ae76fd5ca53932970fe3053f/pyasn1-0.4.8-py2.py3-none-any.whl\n",
      "Installing collected packages: mock, websocket-client, requests-oauthlib, pyasn1, pyasn1-modules, rsa, cachetools, google-auth, kubernetes, argo-workflows\n",
      "Successfully installed argo-workflows-2.1.4 cachetools-4.0.0 google-auth-1.10.0 kubernetes-10.0.1 mock-3.0.5 pyasn1-0.4.8 pyasn1-modules-0.2.7 requests-oauthlib-1.3.0 rsa-4.0 websocket-client-0.56.0\n"
     ]
    }
   ],
   "source": [
    "!pip install argo-workflows"
   ]
  },
  {
   "cell_type": "code",
   "execution_count": 9,
   "metadata": {},
   "outputs": [],
   "source": [
    "from argo.workflows.client import V1alpha1Api\n",
    "from argo.workflows.config import load_kube_config"
   ]
  },
  {
   "cell_type": "code",
   "execution_count": 18,
   "metadata": {},
   "outputs": [],
   "source": [
    "yaml_file = \"\"\"\n",
    "apiVersion: v1\n",
    "clusters:\n",
    "- cluster:\n",
    "    certificate-authority-data: LS0tLS1CRUdJTiBDRVJUSUZJQ0FURS0tLS0tCk1JSURBVENDQWVtZ0F3SUJBZ0lKQUtCeUxDM0JsRWltTUEwR0NTcUdTSWIzRFFFQkN3VUFNQmN4RlRBVEJnTlYKQkFNTURERXdMakUxTWk0eE9ETXVNVEFlRncweE9URXlNVFl3T0RJMk1UWmFGdzAwTnpBMU1ETXdPREkyTVRaYQpNQmN4RlRBVEJnTlZCQU1NRERFd0xqRTFNaTR4T0RNdU1UQ0NBU0l3RFFZSktvWklodmNOQVFFQkJRQURnZ0VQCkFEQ0NBUW9DZ2dFQkFORHNkUTMzN3RZT0xQQTJ0QzNWbWd4NUIwakMvRC9ObjNSNGVJa2U1Ukd0dXdRT0RRYjAKckUwbDFkZWNEdzlSRWxpa0Zma2xjYUF3cGlQV091U3JkcytOV3JTc1ZUY2lFaXhua0NHeC9EUyt3dnE3dnBMawptRTlkRDRJeThzOU0rR0czbEJLNmxGemFiMUNCUEVEckJyUHA4VTdFTjc4T0YyM2ZGSGVMd3dSdGdycXZEb0xWCms2am54QmhDOEVPRWxOTWdEcHQxSEhKN1dOdmFHbVl0MzY5WnFMZUlxMTFndnh0YkJjNG92M0RlMlByempsbkoKYkREUzdmS0JlUjNWRmVuQXMzaDIyVEFsL2puU0ZoSHdJdVNzNlo4amlReDNtNTVuN1ViTDJ2UVpiaTJST2JQVgpyRGowemxmMWdSeEREbkVEWGExcHNFSXhBTTM3SzRrYjBaOENBd0VBQWFOUU1FNHdIUVlEVlIwT0JCWUVGRFVUCmpJa0I3Q3hYNUl0YWFCL3ZBV1JrZGJOVU1COEdBMVVkSXdRWU1CYUFGRFVUaklrQjdDeFg1SXRhYUIvdkFXUmsKZGJOVU1Bd0dBMVVkRXdRRk1BTUJBZjh3RFFZSktvWklodmNOQVFFTEJRQURnZ0VCQUVRMUVqWmhLN0JFYjlUTwpYSmxQSDYyWXBON3MyaE45Y1MzcVFQMXJnV3BiWk5qUzFXK2VBYjQ5QVBFT2dJNzRzQzVSclh5NThMTW9iNVNwCjVjRmVyU1A2RTg2SmZMdTlxQitIRnZKZ3ZITXZxV3VQZE5JS0tBL0g4eDBYUytWeVlISGVaOVFLU25PaTlpOWEKYzhNT0tQb2p5L1BUVUMxdlZ0WWhNT1NKSU9RekEzQTVnM2huMGNLYnZYd3RIR2hUc1hqTVptbzJLaWdTWDlROQpqY3ZnNWdBcDNvVE1idjhVWEI1c1pwUHV4S2ZMdUtMOVV4OFZDaXpNQkRCOEVEL0kxcFpkSVh0SlVnYmtabzZxCjFCSk10bkN3SHBJZjVEOFlQMFNhTktkbll0Nk1KUUJyS05rU3ZjbE1WbGlGZU1SVERlT3JyU3dkTWtoN1cvYkIKWEZyVmg4QT0KLS0tLS1FTkQgQ0VSVElGSUNBVEUtLS0tLQo=\n",
    "    server: https://192.168.192.128:16443\n",
    "  name: microk8s-cluster\n",
    "contexts:\n",
    "- context:\n",
    "    cluster: microk8s-cluster\n",
    "    user: admin\n",
    "  name: microk8s\n",
    "current-context: microk8s\n",
    "kind: Config\n",
    "preferences: {}\n",
    "users:\n",
    "- name: admin\n",
    "  user:\n",
    "    username: admin\n",
    "    password: bld4V0NsdE44am1TV0xrZXVINlFaZXZSeUhFUnRBdEFXMFJFbnlXY1dZYz0K\n",
    "\"\"\"\n",
    "\n",
    "f = open(\"test.yaml\", \"a\")\n",
    "f.write(yaml_file)\n",
    "f.close()\n",
    "\n",
    "# import yaml\n",
    "\n",
    "# content = yaml.load(yaml_file)\n",
    "\n",
    "load_kube_config(config_file=\"test.yaml\")"
   ]
  },
  {
   "cell_type": "code",
   "execution_count": 19,
   "metadata": {},
   "outputs": [],
   "source": [
    "v1alpha1 = V1alpha1Api()"
   ]
  },
  {
   "cell_type": "code",
   "execution_count": 20,
   "metadata": {},
   "outputs": [],
   "source": [
    "wfs = v1alpha1.list_namespaced_workflows(namespace=\"argo\")"
   ]
  },
  {
   "cell_type": "code",
   "execution_count": 21,
   "metadata": {},
   "outputs": [
    {
     "data": {
      "text/plain": [
       "{'api_version': 'argoproj.io/v1alpha1',\n",
       " 'items': [],\n",
       " 'kind': 'WorkflowList',\n",
       " 'metadata': {'_continue': '',\n",
       "              'resource_version': '382303',\n",
       "              'self_link': '/apis/argoproj.io/v1alpha1/namespaces/argo/workflows'}}"
      ]
     },
     "execution_count": 21,
     "metadata": {},
     "output_type": "execute_result"
    }
   ],
   "source": [
    "wfs"
   ]
  },
  {
   "cell_type": "code",
   "execution_count": 25,
   "metadata": {},
   "outputs": [
    {
     "ename": "ValueError",
     "evalue": "Invalid value for `metadata`, must not be `None`",
     "output_type": "error",
     "traceback": [
      "\u001b[0;31m---------------------------------------------------------------------------\u001b[0m",
      "\u001b[0;31mValueError\u001b[0m                                Traceback (most recent call last)",
      "\u001b[0;32m<ipython-input-25-f8bce59db932>\u001b[0m in \u001b[0;36m<module>\u001b[0;34m\u001b[0m\n\u001b[1;32m     16\u001b[0m \u001b[0;34m\u001b[0m\u001b[0m\n\u001b[1;32m     17\u001b[0m \u001b[0mnamespace\u001b[0m \u001b[0;34m=\u001b[0m \u001b[0;34m'namespace_example'\u001b[0m \u001b[0;31m# str | The Workflow's namespace\u001b[0m\u001b[0;34m\u001b[0m\u001b[0;34m\u001b[0m\u001b[0m\n\u001b[0;32m---> 18\u001b[0;31m \u001b[0mbody\u001b[0m \u001b[0;34m=\u001b[0m \u001b[0margo\u001b[0m\u001b[0;34m.\u001b[0m\u001b[0mworkflows\u001b[0m\u001b[0;34m.\u001b[0m\u001b[0mclient\u001b[0m\u001b[0;34m.\u001b[0m\u001b[0mV1alpha1Workflow\u001b[0m\u001b[0;34m(\u001b[0m\u001b[0;34m)\u001b[0m \u001b[0;31m# V1alpha1Workflow | The JSON schema of the Workflow to create.\u001b[0m\u001b[0;34m\u001b[0m\u001b[0;34m\u001b[0m\u001b[0m\n\u001b[0m\u001b[1;32m     19\u001b[0m \u001b[0;34m\u001b[0m\u001b[0m\n\u001b[1;32m     20\u001b[0m \u001b[0;32mtry\u001b[0m\u001b[0;34m:\u001b[0m\u001b[0;34m\u001b[0m\u001b[0;34m\u001b[0m\u001b[0m\n",
      "\u001b[0;32m/opt/conda/lib/python3.7/site-packages/argo/workflows/client/models/v1alpha1_workflow.py\u001b[0m in \u001b[0;36m__init__\u001b[0;34m(self, api_version, kind, metadata, spec, status)\u001b[0m\n\u001b[1;32m     62\u001b[0m         \u001b[0;32mif\u001b[0m \u001b[0mkind\u001b[0m \u001b[0;32mis\u001b[0m \u001b[0;32mnot\u001b[0m \u001b[0;32mNone\u001b[0m\u001b[0;34m:\u001b[0m\u001b[0;34m\u001b[0m\u001b[0;34m\u001b[0m\u001b[0m\n\u001b[1;32m     63\u001b[0m             \u001b[0mself\u001b[0m\u001b[0;34m.\u001b[0m\u001b[0mkind\u001b[0m \u001b[0;34m=\u001b[0m \u001b[0mkind\u001b[0m\u001b[0;34m\u001b[0m\u001b[0;34m\u001b[0m\u001b[0m\n\u001b[0;32m---> 64\u001b[0;31m         \u001b[0mself\u001b[0m\u001b[0;34m.\u001b[0m\u001b[0mmetadata\u001b[0m \u001b[0;34m=\u001b[0m \u001b[0mmetadata\u001b[0m\u001b[0;34m\u001b[0m\u001b[0;34m\u001b[0m\u001b[0m\n\u001b[0m\u001b[1;32m     65\u001b[0m         \u001b[0mself\u001b[0m\u001b[0;34m.\u001b[0m\u001b[0mspec\u001b[0m \u001b[0;34m=\u001b[0m \u001b[0mspec\u001b[0m\u001b[0;34m\u001b[0m\u001b[0;34m\u001b[0m\u001b[0m\n\u001b[1;32m     66\u001b[0m         \u001b[0mself\u001b[0m\u001b[0;34m.\u001b[0m\u001b[0mstatus\u001b[0m \u001b[0;34m=\u001b[0m \u001b[0mstatus\u001b[0m\u001b[0;34m\u001b[0m\u001b[0;34m\u001b[0m\u001b[0m\n",
      "\u001b[0;32m/opt/conda/lib/python3.7/site-packages/argo/workflows/client/models/v1alpha1_workflow.py\u001b[0m in \u001b[0;36mmetadata\u001b[0;34m(self, metadata)\u001b[0m\n\u001b[1;32m    131\u001b[0m         \"\"\"\n\u001b[1;32m    132\u001b[0m         \u001b[0;32mif\u001b[0m \u001b[0mmetadata\u001b[0m \u001b[0;32mis\u001b[0m \u001b[0;32mNone\u001b[0m\u001b[0;34m:\u001b[0m\u001b[0;34m\u001b[0m\u001b[0;34m\u001b[0m\u001b[0m\n\u001b[0;32m--> 133\u001b[0;31m             \u001b[0;32mraise\u001b[0m \u001b[0mValueError\u001b[0m\u001b[0;34m(\u001b[0m\u001b[0;34m\"Invalid value for `metadata`, must not be `None`\"\u001b[0m\u001b[0;34m)\u001b[0m  \u001b[0;31m# noqa: E501\u001b[0m\u001b[0;34m\u001b[0m\u001b[0;34m\u001b[0m\u001b[0m\n\u001b[0m\u001b[1;32m    134\u001b[0m \u001b[0;34m\u001b[0m\u001b[0m\n\u001b[1;32m    135\u001b[0m         \u001b[0mself\u001b[0m\u001b[0;34m.\u001b[0m\u001b[0m_metadata\u001b[0m \u001b[0;34m=\u001b[0m \u001b[0mmetadata\u001b[0m\u001b[0;34m\u001b[0m\u001b[0;34m\u001b[0m\u001b[0m\n",
      "\u001b[0;31mValueError\u001b[0m: Invalid value for `metadata`, must not be `None`"
     ]
    }
   ],
   "source": [
    "from __future__ import print_function\n",
    "import time\n",
    "from argo.workflows.client import Configuration\n",
    "from argo.workflows.client.rest import ApiException\n",
    "from pprint import pprint\n",
    "\n",
    "# Configure API key authorization: BearerToken\n",
    "# configuration = Configuration()\n",
    "# configuration.api_key['authorization'] = 'YOUR_API_KEY'\n",
    "# Uncomment below to setup prefix (e.g. Bearer) for API key, if needed\n",
    "# configuration.api_key_prefix['authorization'] = 'Bearer'\n",
    "\n",
    "# create an instance of the API class\n",
    "# api_instance = argo.workflows.client.V1alpha1Api(workflows.client.ApiClient(configuration))\n",
    "api_instance = v1alpha1\n",
    "\n",
    "namespace = 'default' # str | The Workflow's namespace\n",
    "body = argo.workflows.client.V1alpha1Workflow() # V1alpha1Workflow | The JSON schema of the Workflow to create.\n",
    "\n",
    "try:\n",
    "    api_response = api_instance.create_namespaced_workflow(namespace, body)\n",
    "    pprint(api_response)\n",
    "except ApiException as e:\n",
    "    print(\"Exception when calling V1alpha1Api->create_namespaced_workflow: %s\\n\" % e)"
   ]
  },
  {
   "cell_type": "code",
   "execution_count": null,
   "metadata": {},
   "outputs": [],
   "source": []
  }
 ],
 "metadata": {
  "kernelspec": {
   "display_name": "Python 3",
   "language": "python",
   "name": "python3"
  },
  "language_info": {
   "codemirror_mode": {
    "name": "ipython",
    "version": 3
   },
   "file_extension": ".py",
   "mimetype": "text/x-python",
   "name": "python",
   "nbconvert_exporter": "python",
   "pygments_lexer": "ipython3",
   "version": "3.7.3"
  }
 },
 "nbformat": 4,
 "nbformat_minor": 2
}
