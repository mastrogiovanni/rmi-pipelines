{
 "cells": [
  {
   "cell_type": "code",
   "execution_count": 55,
   "metadata": {},
   "outputs": [],
   "source": [
    "import pickle\n",
    "import os"
   ]
  },
  {
   "cell_type": "code",
   "execution_count": null,
   "metadata": {},
   "outputs": [],
   "source": [
    "with os.open(\"method.py\", \"w+\") as f:\n",
    "    f.write()"
   ]
  },
  {
   "cell_type": "code",
   "execution_count": 49,
   "metadata": {},
   "outputs": [],
   "source": [
    "import tarfile"
   ]
  },
  {
   "cell_type": "code",
   "execution_count": 50,
   "metadata": {},
   "outputs": [
    {
     "ename": "FileNotFoundError",
     "evalue": "[Errno 2] No such file or directory: 'foo'",
     "output_type": "error",
     "traceback": [
      "\u001b[0;31m---------------------------------------------------------------------------\u001b[0m",
      "\u001b[0;31mFileNotFoundError\u001b[0m                         Traceback (most recent call last)",
      "\u001b[0;32m<ipython-input-50-6847f9fd4589>\u001b[0m in \u001b[0;36m<module>\u001b[0;34m\u001b[0m\n\u001b[1;32m      2\u001b[0m \u001b[0;32mwith\u001b[0m \u001b[0mtarfile\u001b[0m\u001b[0;34m.\u001b[0m\u001b[0mopen\u001b[0m\u001b[0;34m(\u001b[0m\u001b[0;34m\"sample.tar\"\u001b[0m\u001b[0;34m,\u001b[0m \u001b[0;34m\"w:gz\"\u001b[0m\u001b[0;34m)\u001b[0m \u001b[0;32mas\u001b[0m \u001b[0mtar\u001b[0m\u001b[0;34m:\u001b[0m\u001b[0;34m\u001b[0m\u001b[0;34m\u001b[0m\u001b[0m\n\u001b[1;32m      3\u001b[0m     \u001b[0;32mfor\u001b[0m \u001b[0mname\u001b[0m \u001b[0;32min\u001b[0m \u001b[0;34m[\u001b[0m\u001b[0;34m\"foo\"\u001b[0m\u001b[0;34m,\u001b[0m \u001b[0;34m\"bar\"\u001b[0m\u001b[0;34m,\u001b[0m \u001b[0;34m\"quux\"\u001b[0m\u001b[0;34m]\u001b[0m\u001b[0;34m:\u001b[0m\u001b[0;34m\u001b[0m\u001b[0;34m\u001b[0m\u001b[0m\n\u001b[0;32m----> 4\u001b[0;31m         \u001b[0mtar\u001b[0m\u001b[0;34m.\u001b[0m\u001b[0madd\u001b[0m\u001b[0;34m(\u001b[0m\u001b[0mname\u001b[0m\u001b[0;34m)\u001b[0m\u001b[0;34m\u001b[0m\u001b[0;34m\u001b[0m\u001b[0m\n\u001b[0m",
      "\u001b[0;32m/usr/lib/python3.6/tarfile.py\u001b[0m in \u001b[0;36madd\u001b[0;34m(self, name, arcname, recursive, exclude, filter)\u001b[0m\n\u001b[1;32m   1934\u001b[0m \u001b[0;34m\u001b[0m\u001b[0m\n\u001b[1;32m   1935\u001b[0m         \u001b[0;31m# Create a TarInfo object from the file.\u001b[0m\u001b[0;34m\u001b[0m\u001b[0;34m\u001b[0m\u001b[0;34m\u001b[0m\u001b[0m\n\u001b[0;32m-> 1936\u001b[0;31m         \u001b[0mtarinfo\u001b[0m \u001b[0;34m=\u001b[0m \u001b[0mself\u001b[0m\u001b[0;34m.\u001b[0m\u001b[0mgettarinfo\u001b[0m\u001b[0;34m(\u001b[0m\u001b[0mname\u001b[0m\u001b[0;34m,\u001b[0m \u001b[0marcname\u001b[0m\u001b[0;34m)\u001b[0m\u001b[0;34m\u001b[0m\u001b[0;34m\u001b[0m\u001b[0m\n\u001b[0m\u001b[1;32m   1937\u001b[0m \u001b[0;34m\u001b[0m\u001b[0m\n\u001b[1;32m   1938\u001b[0m         \u001b[0;32mif\u001b[0m \u001b[0mtarinfo\u001b[0m \u001b[0;32mis\u001b[0m \u001b[0;32mNone\u001b[0m\u001b[0;34m:\u001b[0m\u001b[0;34m\u001b[0m\u001b[0;34m\u001b[0m\u001b[0m\n",
      "\u001b[0;32m/usr/lib/python3.6/tarfile.py\u001b[0m in \u001b[0;36mgettarinfo\u001b[0;34m(self, name, arcname, fileobj)\u001b[0m\n\u001b[1;32m   1803\u001b[0m         \u001b[0;32mif\u001b[0m \u001b[0mfileobj\u001b[0m \u001b[0;32mis\u001b[0m \u001b[0;32mNone\u001b[0m\u001b[0;34m:\u001b[0m\u001b[0;34m\u001b[0m\u001b[0;34m\u001b[0m\u001b[0m\n\u001b[1;32m   1804\u001b[0m             \u001b[0;32mif\u001b[0m \u001b[0mhasattr\u001b[0m\u001b[0;34m(\u001b[0m\u001b[0mos\u001b[0m\u001b[0;34m,\u001b[0m \u001b[0;34m\"lstat\"\u001b[0m\u001b[0;34m)\u001b[0m \u001b[0;32mand\u001b[0m \u001b[0;32mnot\u001b[0m \u001b[0mself\u001b[0m\u001b[0;34m.\u001b[0m\u001b[0mdereference\u001b[0m\u001b[0;34m:\u001b[0m\u001b[0;34m\u001b[0m\u001b[0;34m\u001b[0m\u001b[0m\n\u001b[0;32m-> 1805\u001b[0;31m                 \u001b[0mstatres\u001b[0m \u001b[0;34m=\u001b[0m \u001b[0mos\u001b[0m\u001b[0;34m.\u001b[0m\u001b[0mlstat\u001b[0m\u001b[0;34m(\u001b[0m\u001b[0mname\u001b[0m\u001b[0;34m)\u001b[0m\u001b[0;34m\u001b[0m\u001b[0;34m\u001b[0m\u001b[0m\n\u001b[0m\u001b[1;32m   1806\u001b[0m             \u001b[0;32melse\u001b[0m\u001b[0;34m:\u001b[0m\u001b[0;34m\u001b[0m\u001b[0;34m\u001b[0m\u001b[0m\n\u001b[1;32m   1807\u001b[0m                 \u001b[0mstatres\u001b[0m \u001b[0;34m=\u001b[0m \u001b[0mos\u001b[0m\u001b[0;34m.\u001b[0m\u001b[0mstat\u001b[0m\u001b[0;34m(\u001b[0m\u001b[0mname\u001b[0m\u001b[0;34m)\u001b[0m\u001b[0;34m\u001b[0m\u001b[0;34m\u001b[0m\u001b[0m\n",
      "\u001b[0;31mFileNotFoundError\u001b[0m: [Errno 2] No such file or directory: 'foo'"
     ]
    }
   ],
   "source": [
    "import tarfile\n",
    "with tarfile.open(\"sample.tar\", \"w:gz\") as tar:\n",
    "    for name in [\"foo\", \"bar\", \"quux\"]:\n",
    "        tar.add(name)"
   ]
  },
  {
   "cell_type": "code",
   "execution_count": null,
   "metadata": {},
   "outputs": [],
   "source": [
    "!pip3 install argo-workflows"
   ]
  },
  {
   "cell_type": "code",
   "execution_count": 3,
   "metadata": {},
   "outputs": [],
   "source": [
    "# !pip3 install kubernetes"
   ]
  },
  {
   "cell_type": "code",
   "execution_count": 4,
   "metadata": {},
   "outputs": [],
   "source": [
    "# !pip3 install openapi3"
   ]
  },
  {
   "cell_type": "markdown",
   "metadata": {},
   "source": [
    " # Dockerize Python Application"
   ]
  },
  {
   "cell_type": "code",
   "execution_count": null,
   "metadata": {},
   "outputs": [],
   "source": []
  },
  {
   "cell_type": "code",
   "execution_count": null,
   "metadata": {},
   "outputs": [],
   "source": [
    "FROM python:3\n",
    "ADD my_script.py /\n",
    "CMD [ \"python\", \"./my_script.py\" ]"
   ]
  },
  {
   "cell_type": "markdown",
   "metadata": {},
   "source": [
    "# Task With Input Artifact"
   ]
  },
  {
   "cell_type": "raw",
   "metadata": {},
   "source": [
    "# Like parameters, artifacts can be \"passed\" to a template as well.\n",
    "# In this example, the 'kubectl-input-artifact' template requires\n",
    "# that an an artifact named 'kubectl' is supplied as an input,\n",
    "# which it will place in /usr/local/bin/kubectl. This keeps the\n",
    "# template more composable/flexible, than if the location was\n",
    "# hard-wired inside the template.\n",
    "apiVersion: argoproj.io/v1alpha1\n",
    "kind: Workflow\n",
    "metadata:\n",
    "  generateName: arguments-artifacts-\n",
    "spec:\n",
    "  entrypoint: kubectl-input-artifact\n",
    "  arguments:\n",
    "    artifacts:\n",
    "    - name: kubectl\n",
    "      http:\n",
    "        url: https://storage.googleapis.com/kubernetes-release/release/v1.8.0/bin/linux/amd64/kubectl\n",
    "\n",
    "  templates:\n",
    "  - name: kubectl-input-artifact\n",
    "    inputs:\n",
    "      artifacts:\n",
    "      - name: kubectl\n",
    "        path: /usr/local/bin/kubectl\n",
    "        mode: 0755\n",
    "    container:\n",
    "      image: debian:9.4\n",
    "      command: [sh, -c]\n",
    "      args: [\"kubectl version\"]"
   ]
  },
  {
   "cell_type": "code",
   "execution_count": 93,
   "metadata": {},
   "outputs": [
    {
     "data": {
      "text/plain": [
       "{'api_version': 'argoproj.io/v1alpha1',\n",
       " 'kind': 'Workflow',\n",
       " 'metadata': {'annotations': None,\n",
       "              'cluster_name': None,\n",
       "              'creation_timestamp': datetime.datetime(2019, 12, 16, 15, 5, 38, tzinfo=tzutc()),\n",
       "              'deletion_grace_period_seconds': None,\n",
       "              'deletion_timestamp': None,\n",
       "              'finalizers': None,\n",
       "              'generate_name': 'arguments-artifacts-',\n",
       "              'generation': 1,\n",
       "              'initializers': None,\n",
       "              'labels': None,\n",
       "              'managed_fields': None,\n",
       "              'name': 'arguments-artifacts-dqpsk',\n",
       "              'namespace': 'default',\n",
       "              'owner_references': None,\n",
       "              'resource_version': '53140',\n",
       "              'self_link': '/apis/argoproj.io/v1alpha1/namespaces/default/workflows/arguments-artifacts-dqpsk',\n",
       "              'uid': '7d61f5f0-695f-42b4-8301-85e13704c6c0'},\n",
       " 'spec': {'active_deadline_seconds': None,\n",
       "          'affinity': None,\n",
       "          'arguments': {'artifacts': [{'_from': None,\n",
       "                                       'archive': None,\n",
       "                                       'archive_logs': None,\n",
       "                                       'artifactory': None,\n",
       "                                       'git': None,\n",
       "                                       'global_name': None,\n",
       "                                       'hdfs': None,\n",
       "                                       'http': {'url': 'https://storage.googleapis.com/kubernetes-release/release/v1.8.0/bin/linux/amd64/kubectl'},\n",
       "                                       'mode': None,\n",
       "                                       'name': 'kubectl',\n",
       "                                       'optional': None,\n",
       "                                       'path': None,\n",
       "                                       'raw': None,\n",
       "                                       's3': None}],\n",
       "                        'parameters': None},\n",
       "          'artifact_repository_ref': None,\n",
       "          'automount_service_account_token': None,\n",
       "          'dns_config': None,\n",
       "          'dns_policy': None,\n",
       "          'entrypoint': 'kubectl-input-artifact',\n",
       "          'executor': None,\n",
       "          'host_aliases': None,\n",
       "          'host_network': None,\n",
       "          'image_pull_secrets': None,\n",
       "          'node_selector': None,\n",
       "          'on_exit': None,\n",
       "          'parallelism': None,\n",
       "          'pod_gc': None,\n",
       "          'pod_priority': None,\n",
       "          'pod_priority_class_name': None,\n",
       "          'priority': None,\n",
       "          'scheduler_name': None,\n",
       "          'security_context': None,\n",
       "          'service_account_name': None,\n",
       "          'suspend': None,\n",
       "          'templates': [{'active_deadline_seconds': None,\n",
       "                         'affinity': None,\n",
       "                         'archive_location': None,\n",
       "                         'arguments': None,\n",
       "                         'automount_service_account_token': None,\n",
       "                         'container': {'args': ['kubectl version'],\n",
       "                                       'command': ['sh', '-c'],\n",
       "                                       'env': None,\n",
       "                                       'env_from': None,\n",
       "                                       'image': 'debian:9.4',\n",
       "                                       'image_pull_policy': None,\n",
       "                                       'lifecycle': None,\n",
       "                                       'liveness_probe': None,\n",
       "                                       'name': 'd1e74a3b-bfb2-4491-a21b-f88553759208',\n",
       "                                       'ports': None,\n",
       "                                       'readiness_probe': None,\n",
       "                                       'resources': None,\n",
       "                                       'security_context': None,\n",
       "                                       'stdin': None,\n",
       "                                       'stdin_once': None,\n",
       "                                       'termination_message_path': None,\n",
       "                                       'termination_message_policy': None,\n",
       "                                       'tty': None,\n",
       "                                       'volume_devices': None,\n",
       "                                       'volume_mounts': None,\n",
       "                                       'working_dir': None},\n",
       "                         'daemon': None,\n",
       "                         'dag': None,\n",
       "                         'executor': None,\n",
       "                         'host_aliases': None,\n",
       "                         'init_containers': None,\n",
       "                         'inputs': {'artifacts': [{'_from': None,\n",
       "                                                   'archive': None,\n",
       "                                                   'archive_logs': None,\n",
       "                                                   'artifactory': None,\n",
       "                                                   'git': None,\n",
       "                                                   'global_name': None,\n",
       "                                                   'hdfs': None,\n",
       "                                                   'http': None,\n",
       "                                                   'mode': 755,\n",
       "                                                   'name': 'kubectl',\n",
       "                                                   'optional': None,\n",
       "                                                   'path': '/usr/local/bin/kubectl',\n",
       "                                                   'raw': None,\n",
       "                                                   's3': None}],\n",
       "                                    'parameters': None},\n",
       "                         'metadata': None,\n",
       "                         'name': 'kubectl-input-artifact',\n",
       "                         'node_selector': None,\n",
       "                         'outputs': None,\n",
       "                         'parallelism': None,\n",
       "                         'priority': None,\n",
       "                         'priority_class_name': None,\n",
       "                         'resource': None,\n",
       "                         'retry_strategy': None,\n",
       "                         'scheduler_name': None,\n",
       "                         'script': None,\n",
       "                         'security_context': None,\n",
       "                         'service_account_name': None,\n",
       "                         'sidecars': None,\n",
       "                         'steps': None,\n",
       "                         'suspend': None,\n",
       "                         'template': None,\n",
       "                         'template_ref': None,\n",
       "                         'tolerations': None,\n",
       "                         'volumes': None}],\n",
       "          'tolerations': None,\n",
       "          'ttl_seconds_after_finished': None,\n",
       "          'volume_claim_templates': None,\n",
       "          'volumes': None},\n",
       " 'status': {'compressed_nodes': None,\n",
       "            'finished_at': None,\n",
       "            'message': None,\n",
       "            'nodes': None,\n",
       "            'outputs': None,\n",
       "            'persistent_volume_claims': None,\n",
       "            'phase': None,\n",
       "            'started_at': None,\n",
       "            'stored_templates': None}}"
      ]
     },
     "execution_count": 93,
     "metadata": {},
     "output_type": "execute_result"
    }
   ],
   "source": [
    "import uuid\n",
    "\n",
    "from argo.workflows.client.models import *\n",
    "\n",
    "container = V1Container(name=str(uuid.uuid4()), image=\"debian:9.4\", command=[\"sh\", \"-c\"], args=[\"kubectl version\"])\n",
    "\n",
    "input_artifact = V1alpha1Artifact(name=\"kubectl\", path=\"/usr/local/bin/kubectl\", mode=755)\n",
    "\n",
    "inputs = V1alpha1Inputs(artifacts=[input_artifact])\n",
    "\n",
    "template = V1alpha1Template(name=\"kubectl-input-artifact\", container=container, inputs=inputs)\n",
    "\n",
    "metadata = V1ObjectMeta(generate_name=\"arguments-artifacts-\")\n",
    "\n",
    "artifact = V1alpha1Artifact(name=\"kubectl\", http=V1alpha1HTTPArtifact(\"https://storage.googleapis.com/kubernetes-release/release/v1.8.0/bin/linux/amd64/kubectl\"))\n",
    "\n",
    "arguments = V1alpha1Arguments(artifacts=[artifact])\n",
    "\n",
    "spec = V1alpha1WorkflowSpec(entrypoint=\"kubectl-input-artifact\", templates=[template], arguments=arguments)\n",
    "\n",
    "status = V1alpha1WorkflowStatus()\n",
    "        \n",
    "workflow = V1alpha1Workflow(\n",
    "    api_version=\"argoproj.io/v1alpha1\",\n",
    "    kind=\"Workflow\",\n",
    "    metadata=metadata, \n",
    "    spec=spec,\n",
    "    status=status)\n",
    "\n",
    "v1alpha1.create_namespaced_workflow('default', workflow)"
   ]
  },
  {
   "cell_type": "code",
   "execution_count": null,
   "metadata": {},
   "outputs": [],
   "source": []
  }
 ],
 "metadata": {
  "kernelspec": {
   "display_name": "Python 3",
   "language": "python",
   "name": "python3"
  },
  "language_info": {
   "codemirror_mode": {
    "name": "ipython",
    "version": 3
   },
   "file_extension": ".py",
   "mimetype": "text/x-python",
   "name": "python",
   "nbconvert_exporter": "python",
   "pygments_lexer": "ipython3",
   "version": "3.6.8"
  }
 },
 "nbformat": 4,
 "nbformat_minor": 2
}
