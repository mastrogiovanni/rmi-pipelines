{
 "cells": [
  {
   "cell_type": "code",
   "execution_count": 59,
   "metadata": {},
   "outputs": [],
   "source": [
    "import docker\n",
    "\n",
    "client = docker.DockerClient(base_url='unix://var/run/docker.sock')\n",
    "\n",
    "# client = docker.from_env()"
   ]
  },
  {
   "cell_type": "code",
   "execution_count": 86,
   "metadata": {},
   "outputs": [
    {
     "data": {
      "text/plain": [
       "[<Image: '10.98.209.210:5000/yourname/volume:latest', '192.168.1.114:5000/yourname/volume:latest', 'core.harbor.domain/library/volume:latest', 'core.harbor.domain/yourname/volume:latest', 'core.harbor.domain:30900/library/volume:latest', 'docker/whalesay:latest', 'localhost:32000/yourname/volume:latest', 'localhost:5000/yourname/volume:latest'>,\n",
       " <itertools._tee at 0x7f1d5afcbd88>]"
      ]
     },
     "execution_count": 86,
     "metadata": {},
     "output_type": "execute_result"
    }
   ],
   "source": [
    "from io import BytesIO\n",
    "from docker import APIClient\n",
    "\n",
    "dockerfile = '''\n",
    "# Shared Volume\n",
    "FROM docker/whalesay:latest\n",
    "'''\n",
    "f = BytesIO(dockerfile.encode('utf-8'))\n",
    "# cli = APIClient()\n",
    "response = [line for line in client.images.build(\n",
    "    fileobj=f, rm=True, tag='core.harbor.domain:30900/library/volume'\n",
    ")]\n",
    "response"
   ]
  },
  {
   "cell_type": "code",
   "execution_count": 87,
   "metadata": {},
   "outputs": [],
   "source": [
    "# cli.login(registry=\"192.168.1.114:5000\", username=None)"
   ]
  },
  {
   "cell_type": "code",
   "execution_count": 88,
   "metadata": {},
   "outputs": [
    {
     "name": "stdout",
     "output_type": "stream",
     "text": [
      "{'status': 'The push refers to repository [core.harbor.domain:30900/library/volume]'}\n",
      "{'errorDetail': {'message': 'Get https://core.harbor.domain/v2/: dial tcp 192.168.122.162:443: connect: connection refused'}, 'error': 'Get https://core.harbor.domain/v2/: dial tcp 192.168.122.162:443: connect: connection refused'}\n"
     ]
    }
   ],
   "source": [
    "for line in client.images.push('core.harbor.domain:30900/library/volume', stream=True, decode=True):\n",
    "    print(line)"
   ]
  },
  {
   "cell_type": "code",
   "execution_count": null,
   "metadata": {},
   "outputs": [],
   "source": []
  }
 ],
 "metadata": {
  "kernelspec": {
   "display_name": "Python 3",
   "language": "python",
   "name": "python3"
  },
  "language_info": {
   "codemirror_mode": {
    "name": "ipython",
    "version": 3
   },
   "file_extension": ".py",
   "mimetype": "text/x-python",
   "name": "python",
   "nbconvert_exporter": "python",
   "pygments_lexer": "ipython3",
   "version": "3.6.8"
  }
 },
 "nbformat": 4,
 "nbformat_minor": 2
}
