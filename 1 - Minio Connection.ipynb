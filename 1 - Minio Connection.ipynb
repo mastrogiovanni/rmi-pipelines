{
 "cells": [
  {
   "cell_type": "markdown",
   "metadata": {},
   "source": [
    "# Minio Connection\n",
    "\n",
    "Test connection with minio.\n",
    "\n",
    "In order to work Minio must be exposed on local base OS:\n",
    "\n",
    "```\n",
    "export POD_NAME=$(kubectl get pods --namespace default -l \"release=minio\" -o jsonpath=\"{.items[0].metadata.name}\")\n",
    "\n",
    "kubectl port-forward $POD_NAME 9000 --namespace default\n",
    "```\n",
    "\n",
    "Minio is reachble at localhost:9000 with username and password specified at installation time."
   ]
  },
  {
   "cell_type": "code",
   "execution_count": 1,
   "metadata": {},
   "outputs": [
    {
     "name": "stdout",
     "output_type": "stream",
     "text": [
      "Collecting minio\n",
      "  Using cached https://files.pythonhosted.org/packages/14/46/60bff78df1b112cc50f95c5ffb2e14aaf9aa279a5219845b55c56f214383/minio-5.0.5-py2.py3-none-any.whl\n",
      "Collecting python-dateutil (from minio)\n",
      "  Using cached https://files.pythonhosted.org/packages/d4/70/d60450c3dd48ef87586924207ae8907090de0b306af2bce5d134d78615cb/python_dateutil-2.8.1-py2.py3-none-any.whl\n",
      "Collecting certifi (from minio)\n",
      "  Using cached https://files.pythonhosted.org/packages/b9/63/df50cac98ea0d5b006c55a399c3bf1db9da7b5a24de7890bc9cfd5dd9e99/certifi-2019.11.28-py2.py3-none-any.whl\n",
      "Collecting pytz (from minio)\n",
      "  Using cached https://files.pythonhosted.org/packages/e7/f9/f0b53f88060247251bf481fa6ea62cd0d25bf1b11a87888e53ce5b7c8ad2/pytz-2019.3-py2.py3-none-any.whl\n",
      "Collecting urllib3 (from minio)\n",
      "  Using cached https://files.pythonhosted.org/packages/b4/40/a9837291310ee1ccc242ceb6ebfd9eb21539649f193a7c8c86ba15b98539/urllib3-1.25.7-py2.py3-none-any.whl\n",
      "Collecting six>=1.5 (from python-dateutil->minio)\n",
      "  Using cached https://files.pythonhosted.org/packages/65/26/32b8464df2a97e6dd1b656ed26b2c194606c16fe163c695a992b36c11cdf/six-1.13.0-py2.py3-none-any.whl\n",
      "Installing collected packages: six, python-dateutil, certifi, pytz, urllib3, minio\n",
      "Successfully installed certifi-2019.11.28 minio-5.0.5 python-dateutil-2.8.1 pytz-2019.3 six-1.13.0 urllib3-1.25.7\n"
     ]
    }
   ],
   "source": [
    "!pip3 install minio"
   ]
  },
  {
   "cell_type": "code",
   "execution_count": 1,
   "metadata": {},
   "outputs": [],
   "source": [
    "from minio import Minio\n",
    "from minio.error import ResponseError\n",
    "\n",
    "minioClient = Minio('localhost:9000',\n",
    "                  access_key='minioadmin',\n",
    "                  secret_key='minioadmin',\n",
    "                  secure=False)"
   ]
  },
  {
   "cell_type": "code",
   "execution_count": 4,
   "metadata": {},
   "outputs": [],
   "source": [
    "from minio.error import BucketAlreadyOwnedByYou, BucketAlreadyExists, ResponseError\n",
    "\n",
    "# Make a bucket with the make_bucket API call.\n",
    "try:\n",
    "    minioClient.make_bucket(\"maylogs\", location=\"us-east-1\")\n",
    "except BucketAlreadyOwnedByYou as err:\n",
    "    pass\n",
    "except BucketAlreadyExists as err:\n",
    "    print(\"Bucket already exists\")\n",
    "    pass\n",
    "except ResponseError as err:\n",
    "    raise"
   ]
  },
  {
   "cell_type": "code",
   "execution_count": 5,
   "metadata": {},
   "outputs": [],
   "source": [
    "import pickle\n",
    "import numpy\n",
    "import random\n",
    "\n",
    "matrix = numpy.random.normal(size=(10, 10))\n",
    "with open('data/filename.pickle', 'wb') as handle:\n",
    "    pickle.dump(matrix, handle, protocol=pickle.HIGHEST_PROTOCOL)"
   ]
  },
  {
   "cell_type": "code",
   "execution_count": 6,
   "metadata": {},
   "outputs": [],
   "source": [
    "# Put an object 'pumaserver_debug.log' with contents from 'pumaserver_debug.log'.\n",
    "try:\n",
    "    minioClient.fput_object('maylogs', 'filename.pickle', 'data/filename.pickle')\n",
    "except ResponseError as err:\n",
    "    print(err)"
   ]
  },
  {
   "cell_type": "code",
   "execution_count": 7,
   "metadata": {},
   "outputs": [
    {
     "data": {
      "text/plain": [
       "<minio.definitions.Object at 0x7fb244b86828>"
      ]
     },
     "execution_count": 7,
     "metadata": {},
     "output_type": "execute_result"
    }
   ],
   "source": [
    "minioClient.fget_object(bucket_name='maylogs', object_name=\"filename.pickle\", file_path='data/filename-downloaded.pickle')"
   ]
  },
  {
   "cell_type": "code",
   "execution_count": 8,
   "metadata": {},
   "outputs": [
    {
     "name": "stdout",
     "output_type": "stream",
     "text": [
      "[[ 0.83618364 -0.35768602 -1.76729026  0.51288422 -0.46673721  0.33391897\n",
      "   0.47285595 -0.76884119 -0.19374707 -0.50633933]\n",
      " [ 0.19224982  2.12214634  0.14703965 -0.76908812 -0.56518857  0.63802935\n",
      "   0.07653051  1.25493094  1.53410471 -0.08211965]\n",
      " [-1.31879963 -0.61370851  1.16425778  0.21990219  0.37954601  1.06194805\n",
      "  -0.02227158  0.73098184  1.10245536 -1.73734825]\n",
      " [ 0.84490365  1.0927515  -0.75465638 -1.47782307 -0.27695045 -0.41918947\n",
      "  -0.23759325  1.06722071  0.79279885 -0.786596  ]\n",
      " [ 2.1433862   1.48892502  0.18187059  1.38286619  0.83294416 -0.39180535\n",
      "  -1.80231751 -0.62653932  0.59745518 -1.47227843]\n",
      " [-0.35104512  0.46363027 -1.11277631  2.15304981 -0.7707638   1.22752071\n",
      "   0.28876825 -0.8426367  -0.63255116  0.49793792]\n",
      " [-0.25059764  0.14540992  0.61517449 -0.25907555  0.69817401 -1.26701417\n",
      "   1.64685973  0.63037307  0.61348194 -1.17948619]\n",
      " [-1.52724461 -0.12126996 -0.69022079 -1.03023034  0.95368563 -0.03738054\n",
      "   1.33039381 -0.12682712 -1.59036884  0.10816678]\n",
      " [-1.42132387  0.28084775 -0.98919031 -0.74818548  2.18262572 -0.20067404\n",
      "  -1.20652297  1.07940768  0.57445695  1.25867163]\n",
      " [-0.28697466 -0.62639009 -0.06989572  0.27853702  0.73517806  1.79430274\n",
      "   0.51634658 -0.82567466 -2.71365541  1.33826972]]\n"
     ]
    }
   ],
   "source": [
    "with open('data/filename-downloaded.pickle', 'rb') as handle:\n",
    "    s = pickle.load(handle)\n",
    "    print(s)"
   ]
  },
  {
   "cell_type": "code",
   "execution_count": null,
   "metadata": {},
   "outputs": [],
   "source": []
  }
 ],
 "metadata": {
  "kernelspec": {
   "display_name": "Python 3",
   "language": "python",
   "name": "python3"
  },
  "language_info": {
   "codemirror_mode": {
    "name": "ipython",
    "version": 3
   },
   "file_extension": ".py",
   "mimetype": "text/x-python",
   "name": "python",
   "nbconvert_exporter": "python",
   "pygments_lexer": "ipython3",
   "version": "3.6.8"
  }
 },
 "nbformat": 4,
 "nbformat_minor": 2
}
