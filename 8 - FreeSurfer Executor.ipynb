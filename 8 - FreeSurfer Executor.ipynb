{
 "cells": [
  {
   "cell_type": "markdown",
   "metadata": {},
   "source": [
    "# Example of steps execution"
   ]
  },
  {
   "cell_type": "code",
   "execution_count": 1,
   "metadata": {},
   "outputs": [
    {
     "name": "stdout",
     "output_type": "stream",
     "text": [
      "Setting mapmethod to nnf\n",
      "\n",
      "$Id: mri_surf2surf.c,v 1.103 2015/11/05 22:07:33 greve Exp $\n",
      "\n",
      "setenv SUBJECTS_DIR /opt/freesurfer/subjects\n",
      "cd /\n",
      "mri_surf2surf --hemi lh --tval lh.pippo.aparc.annot --sval-annot /opt/freesurfer/subjects/fsaverage/label/lh.aparc.a2005s.annot --srcsubject fsaverage --trgsubject 0040013 \n",
      "\n",
      "sysname  Linux\n",
      "hostname 4a1fce6130e5\n",
      "machine  x86_64\n",
      "user     UNKNOWN\n",
      "srcsubject = fsaverage\n",
      "srcval     = (null)\n",
      "srctype    = \n",
      "trgsubject = 0040013\n",
      "trgval     = lh.pippo.aparc.annot\n",
      "trgtype    = \n",
      "srcsurfreg = sphere.reg\n",
      "trgsurfreg = sphere.reg\n",
      "srchemi    = lh\n",
      "trghemi    = lh\n",
      "frame      = 0\n",
      "fwhm-in    = 0\n",
      "fwhm-out   = 0\n",
      "label-src  = (null)\n",
      "label-trg  = (null)\n",
      "OKToRevFaceOrder  = 1\n",
      "UseDualHemi = 0\n",
      "Reading source surface reg /opt/freesurfer/subjects/fsaverage/surf/lh.sphere.reg\n",
      "Loading source data\n",
      "Reading surface file /opt/freesurfer/subjects/fsaverage/surf/lh.orig\n",
      "reading colortable from annotation file...\n",
      "colortable with 82 entries read (originally /autofs/space/birn_044/users/christophe_atlas_rebuild/Simple_surface_labels2005.txt)\n",
      "Reading target surface reg /opt/freesurfer/subjects/0040013/surf/lh.sphere.reg\n",
      "Done\n",
      "Using surf2surf_nnfr()\n",
      "Mapping Source Volume onto Source Subject Surface\n",
      "surf2surf_nnfr: building source hash (res=16).\n",
      "Surf2Surf: Forward Loop (129137)\n",
      "\n",
      "Surf2Surf: Dividing by number of hits (129137)\n",
      "INFO: nSrcLost = 56883\n",
      "nTrg121 = 129137, nTrgMulti =     0, MnTrgMultiHits = 0\n",
      "nSrc121 = 88749, nSrcLost = 56883, nSrcMulti = 75093, MnSrcMultiHits = 0.53784\n",
      "Saving target data\n",
      "Converting to target annot\n",
      "Saving to target annot lh.pippo.aparc.annot\n"
     ]
    }
   ],
   "source": [
    "!docker run \\\n",
    "    --user \"$(id -u $USER):$(id -g $USER)\" \\\n",
    "    -v $(pwd)/license.txt:/opt/freesurfer/license.txt \\\n",
    "    -v $(pwd)/data/recon_all/controllo/0040013:/opt/freesurfer/subjects/0040013 \\\n",
    "        freesurfer/freesurfer:6.0 \\\n",
    "            mri_surf2surf \\\n",
    "                --hemi lh \\\n",
    "                --tval lh.pippo.aparc.annot \\\n",
    "                --sval-annot /opt/freesurfer/subjects/fsaverage/label/lh.aparc.a2005s.annot \\\n",
    "                --srcsubject fsaverage \\\n",
    "                --trgsubject 0040013"
   ]
  },
  {
   "cell_type": "code",
   "execution_count": 7,
   "metadata": {},
   "outputs": [],
   "source": [
    "!docker run \\\n",
    "    --user \"$(id -u $USER):$(id -g $USER)\" \\\n",
    "    -v $(pwd)/data:/data \\\n",
    "    vistalab/fsl-v5.0 mcflirt \\\n",
    "        -plots \\\n",
    "        -in /data/controllo/0040013/session_1/rest_1/rest.nii.gz \\\n",
    "        -cost mutualinfo \\\n",
    "        -out /data/result \\\n",
    "        -verbose 10"
   ]
  },
  {
   "cell_type": "code",
   "execution_count": 11,
   "metadata": {},
   "outputs": [
    {
     "name": "stdout",
     "output_type": "stream",
     "text": [
      "\u001b[0m\u001b[01;34mcontrollo\u001b[0m/                \u001b[01;31mcontrollo-0040018.tar.gz\u001b[0m    \u001b[01;31mresult.nii.gz\u001b[0m\r\n",
      "\u001b[01;31mcontrollo-0040013.tar.gz\u001b[0m  filename-downloaded.pickle  result.par\r\n",
      "\u001b[01;31mcontrollo-0040014.tar.gz\u001b[0m  filename.pickle             \u001b[01;35mtest_rot.png\u001b[0m\r\n",
      "\u001b[01;31mcontrollo-0040017.tar.gz\u001b[0m  \u001b[01;34mrecon_all\u001b[0m/\r\n"
     ]
    }
   ],
   "source": [
    "ls data"
   ]
  },
  {
   "cell_type": "code",
   "execution_count": 10,
   "metadata": {},
   "outputs": [],
   "source": [
    "!docker run \\\n",
    "    --user \"$(id -u $USER):$(id -g $USER)\" \\\n",
    "    -v $(pwd)/data:/data \\\n",
    "    vistalab/fsl-v5.0 fsl_tsplot \\\n",
    "        -i /data/result.par \\\n",
    "        -t 'MCFLIRT estimated rotations (radians)' \\\n",
    "        -u 1\\\n",
    "        --start=1 \\\n",
    "        --finish=3 \\\n",
    "        -a x,y,z \\\n",
    "        -w 640 \\\n",
    "        -h 144 \\\n",
    "        -o /data/test_rot.png"
   ]
  },
  {
   "cell_type": "markdown",
   "metadata": {},
   "source": [
    "![title](data/test_rot.png)"
   ]
  },
  {
   "cell_type": "code",
   "execution_count": null,
   "metadata": {},
   "outputs": [],
   "source": []
  }
 ],
 "metadata": {
  "kernelspec": {
   "display_name": "Python 3",
   "language": "python",
   "name": "python3"
  },
  "language_info": {
   "codemirror_mode": {
    "name": "ipython",
    "version": 3
   },
   "file_extension": ".py",
   "mimetype": "text/x-python",
   "name": "python",
   "nbconvert_exporter": "python",
   "pygments_lexer": "ipython3",
   "version": "3.6.9"
  }
 },
 "nbformat": 4,
 "nbformat_minor": 2
}
