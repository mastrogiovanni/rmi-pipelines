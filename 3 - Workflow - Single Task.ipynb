{
 "cells": [
  {
   "cell_type": "markdown",
   "metadata": {},
   "source": [
    "# Workflow example\n",
    "\n",
    "In this example a single task is submitted to Argo via APIs using python lib.\n",
    "The image that is used is the one created in the jupyther Notebook 2\n",
    "It aim to create a whale with a balloon "
   ]
  },
  {
   "cell_type": "code",
   "execution_count": 43,
   "metadata": {},
   "outputs": [],
   "source": [
    "from argo.workflows.client import V1alpha1Api\n",
    "from argo.workflows.config import load_kube_config"
   ]
  },
  {
   "cell_type": "code",
   "execution_count": 44,
   "metadata": {},
   "outputs": [],
   "source": [
    "load_kube_config()"
   ]
  },
  {
   "cell_type": "code",
   "execution_count": 45,
   "metadata": {},
   "outputs": [],
   "source": [
    "v1alpha1 = V1alpha1Api()"
   ]
  },
  {
   "cell_type": "code",
   "execution_count": 46,
   "metadata": {},
   "outputs": [],
   "source": [
    "# Create a Workflow with a single task\n",
    "\n",
    "from argo.workflows.client.models import *\n",
    "\n",
    "container = V1Container(name=\"whale\", image=\"localhost:32000/library/volume\", command=[\"cowsay\"], args=[\"hello world\"])\n",
    "\n",
    "metadata = V1ObjectMeta(generate_name=\"hello-world-\")\n",
    "\n",
    "template = V1alpha1Template(name=\"whalesay\", container=container)\n",
    "\n",
    "spec = V1alpha1WorkflowSpec(entrypoint=\"whalesay\", templates=[template])\n",
    "\n",
    "status = V1alpha1WorkflowStatus()\n",
    "        \n",
    "workflow = V1alpha1Workflow(\n",
    "    api_version=\"argoproj.io/v1alpha1\",\n",
    "    kind=\"Workflow\",\n",
    "    metadata=metadata, \n",
    "    spec=spec,\n",
    "    status=status)"
   ]
  },
  {
   "cell_type": "code",
   "execution_count": 47,
   "metadata": {},
   "outputs": [],
   "source": [
    "# Get result: it contains workflow generated name in metadata.name\n",
    "result = v1alpha1.create_namespaced_workflow('default', workflow)"
   ]
  },
  {
   "cell_type": "code",
   "execution_count": 48,
   "metadata": {},
   "outputs": [],
   "source": [
    "wfs = v1alpha1.list_namespaced_workflows(namespace=\"default\")"
   ]
  },
  {
   "cell_type": "code",
   "execution_count": 51,
   "metadata": {},
   "outputs": [
    {
     "name": "stdout",
     "output_type": "stream",
     "text": [
      " _____________ \n",
      "< hello world >\n",
      " ------------- \n",
      "    \\\n",
      "     \\\n",
      "      \\     \n",
      "                    ##        .            \n",
      "              ## ## ##       ==            \n",
      "           ## ## ## ##      ===            \n",
      "       /\"\"\"\"\"\"\"\"\"\"\"\"\"\"\"\"___/ ===        \n",
      "  ~~~ {~~ ~~~~ ~~~ ~~~~ ~~ ~ /  ===- ~~~   \n",
      "       \\______ o          __/            \n",
      "        \\    \\        __/             \n",
      "          \\____\\______/   \n",
      "\n"
     ]
    }
   ],
   "source": [
    "# The following fragment must be invoked more time, until the workflow is completed its execution\n",
    "\n",
    "from kubernetes.client.rest import ApiException\n",
    "from kubernetes import client, config\n",
    "\n",
    "config.load_kube_config()\n",
    "\n",
    "for job in wfs.items:\n",
    "    if job.metadata.name == result.metadata.name:\n",
    "        for pod_name in job.status.nodes.keys():\n",
    "            try:\n",
    "                api_instance = client.CoreV1Api()\n",
    "                # Pod created by Argo has init containers, main container and wait container...\n",
    "                api_response = api_instance.read_namespaced_pod_log(name=pod_name, container=\"main\", namespace='default')\n",
    "                print(api_response)\n",
    "            except ApiException as e:\n",
    "                print('Found exception in reading the logs')"
   ]
  },
  {
   "cell_type": "code",
   "execution_count": null,
   "metadata": {},
   "outputs": [],
   "source": []
  }
 ],
 "metadata": {
  "kernelspec": {
   "display_name": "Python 3",
   "language": "python",
   "name": "python3"
  },
  "language_info": {
   "codemirror_mode": {
    "name": "ipython",
    "version": 3
   },
   "file_extension": ".py",
   "mimetype": "text/x-python",
   "name": "python",
   "nbconvert_exporter": "python",
   "pygments_lexer": "ipython3",
   "version": "3.6.8"
  }
 },
 "nbformat": 4,
 "nbformat_minor": 2
}
