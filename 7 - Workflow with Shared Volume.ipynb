{
 "cells": [
  {
   "cell_type": "code",
   "execution_count": 1,
   "metadata": {},
   "outputs": [],
   "source": [
    "from argo.workflows.client import V1alpha1Api\n",
    "from argo.workflows.config import load_kube_config"
   ]
  },
  {
   "cell_type": "code",
   "execution_count": 2,
   "metadata": {},
   "outputs": [],
   "source": [
    "load_kube_config()  # loads local configuration from ~/.kube/config"
   ]
  },
  {
   "cell_type": "code",
   "execution_count": 3,
   "metadata": {},
   "outputs": [],
   "source": [
    "v1alpha1 = V1alpha1Api()"
   ]
  },
  {
   "cell_type": "code",
   "execution_count": 5,
   "metadata": {},
   "outputs": [],
   "source": [
    "from argo.workflows.client.models import *"
   ]
  },
  {
   "cell_type": "code",
   "execution_count": 38,
   "metadata": {},
   "outputs": [],
   "source": [
    "# Create a Workflow with a single task\n",
    "\n",
    "spec = V1alpha1WorkflowSpec(\n",
    "    entrypoint=\"steps\", \n",
    "    volume_claim_templates=[\n",
    "        V1PersistentVolumeClaim(\n",
    "            metadata=V1ObjectMeta(\n",
    "                name=\"volume\"\n",
    "            ),\n",
    "            spec=V1PersistentVolumeClaimSpec(\n",
    "                access_modes=[\"ReadWriteOnce\"],\n",
    "                resources=V1ResourceRequirements(\n",
    "                    requests={\n",
    "                        \"storage\": \"10Mi\"\n",
    "                    }\n",
    "                )\n",
    "            )\n",
    "        )\n",
    "    ],\n",
    "#    volumes=[\n",
    "#        V1Volume(\n",
    "#            name=\"volume\",\n",
    "#            empty_dir={}\n",
    "#        )\n",
    "#    ]\n",
    "    templates=[\n",
    "        V1alpha1Template(\n",
    "            name=\"steps\",\n",
    "            steps=[\n",
    "                [\n",
    "                    V1alpha1WorkflowStep(name=\"catfile\", template=\"catfile\")\n",
    "                ],\n",
    "                [\n",
    "                    V1alpha1WorkflowStep(name=\"show\", template=\"show\")\n",
    "                ]\n",
    "            ]\n",
    "            #,\n",
    "            #archive_location=V1alpha1ArtifactLocation(s3=V1alpha1S3Artifact(\n",
    "            #    endpoint=\"minio.default:9000\",\n",
    "            #    insecure=True,\n",
    "            #    bucket=\"subjects-data\",\n",
    "            #    access_key_secret=access_key_secret,\n",
    "            #    secret_key_secret=secret_key_secret,\n",
    "            #    key=\"message-stocazzo\"\n",
    "            #))\n",
    "        ),       \n",
    "        V1alpha1Template(\n",
    "            name=\"catfile\", \n",
    "            container=V1Container(\n",
    "                name=\"catfile\", \n",
    "                image=\"ubuntu\", \n",
    "                command=[\"bash\", \"-c\", \"cd / ; ls -lh ; echo michele > /workdir/stocazzo.txt ; ls /workdir\"], \n",
    "                args=[],\n",
    "                volume_mounts=[\n",
    "                    V1VolumeMount(name=\"volume\", mount_path=\"/workdir\")\n",
    "                ]\n",
    "            )\n",
    "        ),\n",
    "        V1alpha1Template(\n",
    "            name=\"show\", \n",
    "            container=V1Container(\n",
    "                name=\"show\", \n",
    "                image=\"ubuntu\", \n",
    "                command=[\"bash\", \"-c\", \"cd / ; ls -lh / ; ls -lh /workdir ; cat /workdir/stocazzo.txt\"], \n",
    "                args=[],\n",
    "                volume_mounts=[\n",
    "                    V1VolumeMount(name=\"volume\", mount_path=\"/workdir\")\n",
    "                ]\n",
    "            )\n",
    "        )\n",
    "    ])\n",
    "        \n",
    "workflow = V1alpha1Workflow(\n",
    "    api_version=\"argoproj.io/v1alpha1\",\n",
    "    kind=\"Workflow\",\n",
    "    metadata=V1ObjectMeta(generate_name=\"cat-file-\"), \n",
    "    spec=spec,\n",
    "    status=V1alpha1WorkflowStatus())"
   ]
  },
  {
   "cell_type": "code",
   "execution_count": 39,
   "metadata": {},
   "outputs": [],
   "source": [
    "result = v1alpha1.create_namespaced_workflow('default', workflow)"
   ]
  },
  {
   "cell_type": "code",
   "execution_count": 40,
   "metadata": {},
   "outputs": [
    {
     "name": "stdout",
     "output_type": "stream",
     "text": [
      "Log for cat-file-mkj5h-2945398604: \n"
     ]
    }
   ],
   "source": [
    "# The following fragment must be invoked more time, until the workflow is completed its execution\n",
    "\n",
    "from kubernetes.client.rest import ApiException\n",
    "from kubernetes import client, config\n",
    "\n",
    "config.load_kube_config()\n",
    "\n",
    "wfs = v1alpha1.list_namespaced_workflows(namespace=\"default\")\n",
    "for job in wfs.items:\n",
    "    if job.metadata.name == result.metadata.name:\n",
    "        for pod_name in job.status.nodes.keys():\n",
    "            if job.status.nodes[pod_name].type == 'Pod':\n",
    "                try:\n",
    "                    api_instance = client.CoreV1Api()\n",
    "                    # Pod created by Argo has init containers, main container and wait container...\n",
    "                    api_response = api_instance.read_namespaced_pod_log(name=pod_name, container=\"main\", namespace='default')\n",
    "                    print(f\"Log for {pod_name}: {api_response}\")\n",
    "                except ApiException as e:\n",
    "                    print(f'Found exception in reading the logs {pod_name}')"
   ]
  },
  {
   "cell_type": "code",
   "execution_count": null,
   "metadata": {},
   "outputs": [],
   "source": []
  }
 ],
 "metadata": {
  "kernelspec": {
   "display_name": "Python 3",
   "language": "python",
   "name": "python3"
  },
  "language_info": {
   "codemirror_mode": {
    "name": "ipython",
    "version": 3
   },
   "file_extension": ".py",
   "mimetype": "text/x-python",
   "name": "python",
   "nbconvert_exporter": "python",
   "pygments_lexer": "ipython3",
   "version": "3.6.9"
  }
 },
 "nbformat": 4,
 "nbformat_minor": 2
}
