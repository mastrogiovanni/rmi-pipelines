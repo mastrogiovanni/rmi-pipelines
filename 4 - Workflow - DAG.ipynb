{
 "cells": [
  {
   "cell_type": "markdown",
   "metadata": {},
   "source": [
    "# DAG Workflow\n",
    "\n",
    "This Notebook aim to show how create a DAG for workflow execution.\n",
    "Each Task need to specify its own dependencies.\n",
    "In the following lines the example that you can find in Argo documentation."
   ]
  },
  {
   "cell_type": "raw",
   "metadata": {},
   "source": [
    "apiVersion: argoproj.io/v1alpha1\n",
    "kind: Workflow\n",
    "metadata:\n",
    "  generateName: dag-diamond-\n",
    "spec:\n",
    "  entrypoint: diamond\n",
    "  templates:\n",
    "  - name: echo\n",
    "    inputs:\n",
    "      parameters:\n",
    "      - name: message\n",
    "    container:\n",
    "      image: alpine:3.7\n",
    "      command: [echo, \"{{inputs.parameters.message}}\"]\n",
    "  - name: diamond\n",
    "    dag:\n",
    "      tasks:\n",
    "      - name: A\n",
    "        template: echo\n",
    "        arguments:\n",
    "          parameters: [{name: message, value: A}]\n",
    "      - name: B\n",
    "        dependencies: [A]\n",
    "        template: echo\n",
    "        arguments:\n",
    "          parameters: [{name: message, value: B}]\n",
    "      - name: C\n",
    "        dependencies: [A]\n",
    "        template: echo\n",
    "        arguments:\n",
    "          parameters: [{name: message, value: C}]\n",
    "      - name: D\n",
    "        dependencies: [B, C]\n",
    "        template: echo\n",
    "        arguments:\n",
    "          parameters: [{name: message, value: D}]"
   ]
  },
  {
   "cell_type": "code",
   "execution_count": 1,
   "metadata": {},
   "outputs": [],
   "source": [
    "from argo.workflows.client.models import *"
   ]
  },
  {
   "cell_type": "code",
   "execution_count": 2,
   "metadata": {},
   "outputs": [],
   "source": [
    "def get_dag():\n",
    "    \n",
    "    task_a = V1alpha1DAGTask(\n",
    "        name=\"A\", \n",
    "        template=\"echo\", \n",
    "        arguments=V1alpha1Arguments(parameters=[V1alpha1Parameter(name=\"message\", value=\"A\")]))\n",
    "    \n",
    "    task_b = V1alpha1DAGTask(\n",
    "        name=\"B\", \n",
    "        template=\"echo\", \n",
    "        arguments=V1alpha1Arguments(parameters=[V1alpha1Parameter(name=\"message\", value=\"B\")]), \n",
    "        dependencies=[\"A\"])\n",
    "\n",
    "    task_c = V1alpha1DAGTask(\n",
    "        name=\"C\",\n",
    "        template=\"echo\", \n",
    "        arguments=V1alpha1Arguments(parameters=[V1alpha1Parameter(name=\"message\", value=\"C\")]), \n",
    "        dependencies=[\"A\"])\n",
    "\n",
    "    task_d = V1alpha1DAGTask(\n",
    "        name=\"D\",\n",
    "        template=\"echo\", \n",
    "        arguments=V1alpha1Arguments(parameters=[V1alpha1Parameter(name=\"message\", value=\"D\")]), \n",
    "        dependencies=[\"B\", \"C\"])\n",
    "\n",
    "    dag = V1alpha1DAGTemplate(tasks=[\n",
    "        task_a,\n",
    "        task_b,\n",
    "        task_c,\n",
    "        task_d\n",
    "    ])\n",
    "    \n",
    "    return dag"
   ]
  },
  {
   "cell_type": "code",
   "execution_count": 3,
   "metadata": {},
   "outputs": [],
   "source": [
    "def get_workflow():\n",
    "    \n",
    "    spec = V1alpha1WorkflowSpec(\n",
    "        entrypoint=\"diamond\", \n",
    "        templates=[\n",
    "            \n",
    "            V1alpha1Template(\n",
    "                name=\"echo\", \n",
    "                container=V1Container(\n",
    "                    name=\"echo\", \n",
    "                    image=\"alpine:3.7\", \n",
    "                    command=[\"echo\", \"{{inputs.parameters.message}}\"]),\n",
    "                inputs=V1alpha1Inputs(parameters=[V1alpha1Parameter(name=\"message\")])),\n",
    "\n",
    "            V1alpha1Template(name=\"diamond\", dag=get_dag())\n",
    "\n",
    "        ])\n",
    "\n",
    "    workflow = V1alpha1Workflow(\n",
    "        api_version=\"argoproj.io/v1alpha1\",\n",
    "        kind=\"Workflow\",\n",
    "        metadata=V1ObjectMeta(generate_name=\"dag-diamond-\"), \n",
    "        spec=spec,\n",
    "        status=V1alpha1WorkflowStatus())    \n",
    "\n",
    "    return workflow\n"
   ]
  },
  {
   "cell_type": "code",
   "execution_count": 4,
   "metadata": {},
   "outputs": [],
   "source": [
    "workflow = get_workflow()"
   ]
  },
  {
   "cell_type": "code",
   "execution_count": 6,
   "metadata": {},
   "outputs": [],
   "source": [
    "from argo.workflows.client import V1alpha1Api\n",
    "from argo.workflows.config import load_kube_config\n",
    "\n",
    "load_kube_config()  # loads local configuration from ~/.kube/config\n",
    "\n",
    "v1alpha1 = V1alpha1Api()\n",
    "\n",
    "result = v1alpha1.create_namespaced_workflow('default', workflow)"
   ]
  },
  {
   "cell_type": "code",
   "execution_count": 15,
   "metadata": {},
   "outputs": [
    {
     "name": "stdout",
     "output_type": "stream",
     "text": [
      "Log for dag-diamond-xl7vk-1591302304: A\n",
      "\n",
      "Log for dag-diamond-xl7vk-1624857542: C\n",
      "\n",
      "Log for dag-diamond-xl7vk-1641635161: B\n",
      "\n",
      "Log for dag-diamond-xl7vk-1675190399: D\n",
      "\n"
     ]
    }
   ],
   "source": [
    "# The following fragment must be invoked more time, until the workflow is completed its execution\n",
    "\n",
    "from kubernetes.client.rest import ApiException\n",
    "from kubernetes import client, config\n",
    "\n",
    "config.load_kube_config()\n",
    "\n",
    "wfs = v1alpha1.list_namespaced_workflows(namespace=\"default\")\n",
    "for job in wfs.items:\n",
    "    if job.metadata.name == result.metadata.name:\n",
    "        for pod_name in job.status.nodes.keys():\n",
    "            if job.status.nodes[pod_name].type == 'Pod':\n",
    "                try:\n",
    "                    api_instance = client.CoreV1Api()\n",
    "                    # Pod created by Argo has init containers, main container and wait container...\n",
    "                    api_response = api_instance.read_namespaced_pod_log(name=pod_name, container=\"main\", namespace='default')\n",
    "                    print(f\"Log for {pod_name}: {api_response}\")\n",
    "                except ApiException as e:\n",
    "                    print(f'Found exception in reading the logs {pod_name}')"
   ]
  }
 ],
 "metadata": {
  "kernelspec": {
   "display_name": "Python 3",
   "language": "python",
   "name": "python3"
  },
  "language_info": {
   "codemirror_mode": {
    "name": "ipython",
    "version": 3
   },
   "file_extension": ".py",
   "mimetype": "text/x-python",
   "name": "python",
   "nbconvert_exporter": "python",
   "pygments_lexer": "ipython3",
   "version": "3.6.8"
  }
 },
 "nbformat": 4,
 "nbformat_minor": 2
}
