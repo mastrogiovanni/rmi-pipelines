{
 "cells": [
  {
   "cell_type": "code",
   "execution_count": 19,
   "metadata": {},
   "outputs": [],
   "source": [
    "from argo.workflows.client import V1alpha1Api\n",
    "from argo.workflows.config import load_kube_config\n",
    "\n",
    "load_kube_config()  # loads local configuration from ~/.kube/config"
   ]
  },
  {
   "cell_type": "code",
   "execution_count": 20,
   "metadata": {},
   "outputs": [],
   "source": [
    "v1alpha1 = V1alpha1Api()"
   ]
  },
  {
   "cell_type": "code",
   "execution_count": 21,
   "metadata": {},
   "outputs": [],
   "source": [
    "# Create a Workflow with a single task\n",
    "\n",
    "from argo.workflows.client.models import *\n",
    "\n",
    "container = V1Container(name=\"sticazzi\", image=\"core.harbor.domain/yourname/volume:latest\", command=[\"cowsay\"], args=[\"hello world\"])\n",
    "\n",
    "metadata = V1ObjectMeta(generate_name=\"hello-world-\")\n",
    "\n",
    "template = V1alpha1Template(name=\"whalesay\", container=container)\n",
    "\n",
    "spec = V1alpha1WorkflowSpec(entrypoint=\"whalesay\", templates=[template])\n",
    "\n",
    "status = V1alpha1WorkflowStatus()\n",
    "        \n",
    "workflow = V1alpha1Workflow(\n",
    "    api_version=\"argoproj.io/v1alpha1\",\n",
    "    kind=\"Workflow\",\n",
    "    metadata=metadata, \n",
    "    spec=spec,\n",
    "    status=status)"
   ]
  },
  {
   "cell_type": "code",
   "execution_count": 22,
   "metadata": {},
   "outputs": [
    {
     "data": {
      "text/plain": [
       "{'api_version': 'argoproj.io/v1alpha1',\n",
       " 'kind': 'Workflow',\n",
       " 'metadata': {'annotations': None,\n",
       "              'cluster_name': None,\n",
       "              'creation_timestamp': datetime.datetime(2019, 12, 23, 16, 36, 42, tzinfo=tzutc()),\n",
       "              'deletion_grace_period_seconds': None,\n",
       "              'deletion_timestamp': None,\n",
       "              'finalizers': None,\n",
       "              'generate_name': 'hello-world-',\n",
       "              'generation': 1,\n",
       "              'initializers': None,\n",
       "              'labels': None,\n",
       "              'managed_fields': None,\n",
       "              'name': 'hello-world-ql882',\n",
       "              'namespace': 'default',\n",
       "              'owner_references': None,\n",
       "              'resource_version': '32238748',\n",
       "              'self_link': '/apis/argoproj.io/v1alpha1/namespaces/default/workflows/hello-world-ql882',\n",
       "              'uid': '669417ee-25a2-11ea-82ea-a07ee7bbb5d0'},\n",
       " 'spec': {'active_deadline_seconds': None,\n",
       "          'affinity': None,\n",
       "          'arguments': None,\n",
       "          'artifact_repository_ref': None,\n",
       "          'automount_service_account_token': None,\n",
       "          'dns_config': None,\n",
       "          'dns_policy': None,\n",
       "          'entrypoint': 'whalesay',\n",
       "          'executor': None,\n",
       "          'host_aliases': None,\n",
       "          'host_network': None,\n",
       "          'image_pull_secrets': None,\n",
       "          'node_selector': None,\n",
       "          'on_exit': None,\n",
       "          'parallelism': None,\n",
       "          'pod_gc': None,\n",
       "          'pod_priority': None,\n",
       "          'pod_priority_class_name': None,\n",
       "          'priority': None,\n",
       "          'scheduler_name': None,\n",
       "          'security_context': None,\n",
       "          'service_account_name': None,\n",
       "          'suspend': None,\n",
       "          'templates': [{'active_deadline_seconds': None,\n",
       "                         'affinity': None,\n",
       "                         'archive_location': None,\n",
       "                         'arguments': None,\n",
       "                         'automount_service_account_token': None,\n",
       "                         'container': {'args': ['hello world'],\n",
       "                                       'command': ['cowsay'],\n",
       "                                       'env': None,\n",
       "                                       'env_from': None,\n",
       "                                       'image': '192.168.1.114:5000/yourname/volume:latest',\n",
       "                                       'image_pull_policy': None,\n",
       "                                       'lifecycle': None,\n",
       "                                       'liveness_probe': None,\n",
       "                                       'name': 'sticazzi',\n",
       "                                       'ports': None,\n",
       "                                       'readiness_probe': None,\n",
       "                                       'resources': None,\n",
       "                                       'security_context': None,\n",
       "                                       'stdin': None,\n",
       "                                       'stdin_once': None,\n",
       "                                       'termination_message_path': None,\n",
       "                                       'termination_message_policy': None,\n",
       "                                       'tty': None,\n",
       "                                       'volume_devices': None,\n",
       "                                       'volume_mounts': None,\n",
       "                                       'working_dir': None},\n",
       "                         'daemon': None,\n",
       "                         'dag': None,\n",
       "                         'executor': None,\n",
       "                         'host_aliases': None,\n",
       "                         'init_containers': None,\n",
       "                         'inputs': None,\n",
       "                         'metadata': None,\n",
       "                         'name': 'whalesay',\n",
       "                         'node_selector': None,\n",
       "                         'outputs': None,\n",
       "                         'parallelism': None,\n",
       "                         'priority': None,\n",
       "                         'priority_class_name': None,\n",
       "                         'resource': None,\n",
       "                         'retry_strategy': None,\n",
       "                         'scheduler_name': None,\n",
       "                         'script': None,\n",
       "                         'security_context': None,\n",
       "                         'service_account_name': None,\n",
       "                         'sidecars': None,\n",
       "                         'steps': None,\n",
       "                         'suspend': None,\n",
       "                         'template': None,\n",
       "                         'template_ref': None,\n",
       "                         'tolerations': None,\n",
       "                         'volumes': None}],\n",
       "          'tolerations': None,\n",
       "          'ttl_seconds_after_finished': None,\n",
       "          'volume_claim_templates': None,\n",
       "          'volumes': None},\n",
       " 'status': {'compressed_nodes': None,\n",
       "            'finished_at': None,\n",
       "            'message': None,\n",
       "            'nodes': None,\n",
       "            'outputs': None,\n",
       "            'persistent_volume_claims': None,\n",
       "            'phase': None,\n",
       "            'started_at': None,\n",
       "            'stored_templates': None}}"
      ]
     },
     "execution_count": 22,
     "metadata": {},
     "output_type": "execute_result"
    }
   ],
   "source": [
    "v1alpha1.create_namespaced_workflow('default', workflow)"
   ]
  },
  {
   "cell_type": "code",
   "execution_count": 27,
   "metadata": {},
   "outputs": [
    {
     "data": {
      "text/plain": [
       "[('hello-world-ql882', 'Running')]"
      ]
     },
     "execution_count": 27,
     "metadata": {},
     "output_type": "execute_result"
    }
   ],
   "source": [
    "wfs = v1alpha1.list_namespaced_workflows(namespace=\"default\")\n",
    "\n",
    "[(x.metadata.name, x.metadata.labels['workflows.argoproj.io/phase']) for x in wfs.items]"
   ]
  },
  {
   "cell_type": "code",
   "execution_count": null,
   "metadata": {},
   "outputs": [],
   "source": []
  }
 ],
 "metadata": {
  "kernelspec": {
   "display_name": "Python 3",
   "language": "python",
   "name": "python3"
  },
  "language_info": {
   "codemirror_mode": {
    "name": "ipython",
    "version": 3
   },
   "file_extension": ".py",
   "mimetype": "text/x-python",
   "name": "python",
   "nbconvert_exporter": "python",
   "pygments_lexer": "ipython3",
   "version": "3.6.8"
  }
 },
 "nbformat": 4,
 "nbformat_minor": 2
}
