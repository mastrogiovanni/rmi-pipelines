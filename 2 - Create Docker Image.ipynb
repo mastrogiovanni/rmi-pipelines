{
 "cells": [
  {
   "cell_type": "markdown",
   "metadata": {},
   "source": [
    "# Docker Image creation\n",
    "\n",
    "Programmatically create a docker image and push it in the private repository (in Kubernetes).\n",
    "Local registry is exposed on baseos at: `localhost:32000`"
   ]
  },
  {
   "cell_type": "code",
   "execution_count": 2,
   "metadata": {},
   "outputs": [],
   "source": [
    "import docker\n",
    "\n",
    "client = docker.DockerClient(base_url='unix://var/run/docker.sock')\n",
    "\n",
    "# client = docker.from_env()"
   ]
  },
  {
   "cell_type": "code",
   "execution_count": 3,
   "metadata": {},
   "outputs": [
    {
     "data": {
      "text/plain": [
       "[<Image: '192.168.192.128:32000/library/volume:latest', 'docker/whalesay:latest', 'localhost:32000/library/volume:latest', 'localhost:32000/yourname/volume:latest', 'localhost:5000/library/volume:latest'>,\n",
       " <itertools._tee at 0x7faf104f6e08>]"
      ]
     },
     "execution_count": 3,
     "metadata": {},
     "output_type": "execute_result"
    }
   ],
   "source": [
    "from io import BytesIO\n",
    "from docker import APIClient\n",
    "\n",
    "dockerfile = '''\n",
    "# Shared Volume\n",
    "FROM docker/whalesay:latest\n",
    "'''\n",
    "f = BytesIO(dockerfile.encode('utf-8'))\n",
    "\n",
    "response = [line for line in client.images.build(\n",
    "    fileobj=f, rm=True, tag='localhost:32000/library/volume'\n",
    ")]\n",
    "\n",
    "response"
   ]
  },
  {
   "cell_type": "code",
   "execution_count": 4,
   "metadata": {},
   "outputs": [],
   "source": [
    "# cli.login(registry=\"192.168.1.114:5000\", username=None)"
   ]
  },
  {
   "cell_type": "code",
   "execution_count": 5,
   "metadata": {},
   "outputs": [
    {
     "name": "stdout",
     "output_type": "stream",
     "text": [
      "{'status': 'The push refers to repository [localhost:32000/library/volume]'}\n",
      "{'status': 'Preparing', 'progressDetail': {}, 'id': '5f70bf18a086'}\n",
      "{'status': 'Preparing', 'progressDetail': {}, 'id': 'd061ee1340ec'}\n",
      "{'status': 'Preparing', 'progressDetail': {}, 'id': 'd511ed9e12e1'}\n",
      "{'status': 'Preparing', 'progressDetail': {}, 'id': '5f70bf18a086'}\n",
      "{'status': 'Preparing', 'progressDetail': {}, 'id': '091abc5148e4'}\n",
      "{'status': 'Preparing', 'progressDetail': {}, 'id': 'b26122d57afa'}\n",
      "{'status': 'Preparing', 'progressDetail': {}, 'id': '5f70bf18a086'}\n",
      "{'status': 'Preparing', 'progressDetail': {}, 'id': '37ee47034d9b'}\n",
      "{'status': 'Preparing', 'progressDetail': {}, 'id': '528c8710fd95'}\n",
      "{'status': 'Preparing', 'progressDetail': {}, 'id': '1154ba695078'}\n",
      "{'status': 'Waiting', 'progressDetail': {}, 'id': '37ee47034d9b'}\n",
      "{'status': 'Waiting', 'progressDetail': {}, 'id': '528c8710fd95'}\n",
      "{'status': 'Waiting', 'progressDetail': {}, 'id': '1154ba695078'}\n",
      "{'status': 'Layer already exists', 'progressDetail': {}, 'id': '091abc5148e4'}\n",
      "{'status': 'Layer already exists', 'progressDetail': {}, 'id': '5f70bf18a086'}\n",
      "{'status': 'Layer already exists', 'progressDetail': {}, 'id': 'd511ed9e12e1'}\n",
      "{'status': 'Layer already exists', 'progressDetail': {}, 'id': 'd061ee1340ec'}\n",
      "{'status': 'Layer already exists', 'progressDetail': {}, 'id': 'b26122d57afa'}\n",
      "{'status': 'Layer already exists', 'progressDetail': {}, 'id': '37ee47034d9b'}\n",
      "{'status': 'Layer already exists', 'progressDetail': {}, 'id': '528c8710fd95'}\n",
      "{'status': 'Layer already exists', 'progressDetail': {}, 'id': '1154ba695078'}\n",
      "{'status': 'latest: digest: sha256:df326a383b4a036fd5a33402248027d1c972954622924158a28744ed5f9fca1e size: 2402'}\n",
      "{'progressDetail': {}, 'aux': {'Tag': 'latest', 'Digest': 'sha256:df326a383b4a036fd5a33402248027d1c972954622924158a28744ed5f9fca1e', 'Size': 2402}}\n"
     ]
    }
   ],
   "source": [
    "for line in client.images.push('localhost:32000/library/volume', stream=True, decode=True):\n",
    "    print(line)"
   ]
  },
  {
   "cell_type": "code",
   "execution_count": null,
   "metadata": {},
   "outputs": [],
   "source": []
  }
 ],
 "metadata": {
  "kernelspec": {
   "display_name": "Python 3",
   "language": "python",
   "name": "python3"
  },
  "language_info": {
   "codemirror_mode": {
    "name": "ipython",
    "version": 3
   },
   "file_extension": ".py",
   "mimetype": "text/x-python",
   "name": "python",
   "nbconvert_exporter": "python",
   "pygments_lexer": "ipython3",
   "version": "3.6.8"
  }
 },
 "nbformat": 4,
 "nbformat_minor": 2
}
